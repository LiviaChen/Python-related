{
 "cells": [
  {
   "cell_type": "code",
   "execution_count": 6,
   "metadata": {
    "scrolled": true
   },
   "outputs": [
    {
     "name": "stdout",
     "output_type": "stream",
     "text": [
      "Collecting stockstats\n",
      "  Using cached stockstats-0.3.2-py2.py3-none-any.whl (13 kB)\n",
      "Requirement already satisfied: numpy>=1.9.2 in c:\\users\\da01028\\appdata\\roaming\\python\\python38\\site-packages (from stockstats) (1.18.5)\n",
      "Collecting int-date>=0.1.7\n",
      "  Using cached int_date-0.1.8-py2.py3-none-any.whl (5.0 kB)\n",
      "Requirement already satisfied: pandas>=0.18.1 in c:\\users\\da01028\\anaconda3\\envs\\fin_project\\lib\\site-packages (from stockstats) (1.2.0)\n",
      "Requirement already satisfied: python-dateutil>=2.4.2 in c:\\users\\da01028\\appdata\\roaming\\python\\python38\\site-packages (from int-date>=0.1.7->stockstats) (2.8.1)\n",
      "Requirement already satisfied: six>=1.9.0 in c:\\users\\da01028\\appdata\\roaming\\python\\python38\\site-packages (from int-date>=0.1.7->stockstats) (1.15.0)\n",
      "Requirement already satisfied: pytz>=2017.3 in c:\\users\\da01028\\appdata\\roaming\\python\\python38\\site-packages (from pandas>=0.18.1->stockstats) (2020.5)\n",
      "Installing collected packages: int-date, stockstats\n",
      "Successfully installed int-date-0.1.8 stockstats-0.3.2\n"
     ]
    },
    {
     "name": "stderr",
     "output_type": "stream",
     "text": [
      "WARNING: You are using pip version 20.2.4; however, version 20.3.3 is available.\n",
      "You should consider upgrading via the 'C:\\Users\\DA01028\\anaconda3\\envs\\fin_project\\python.exe -m pip install --upgrade pip' command.\n"
     ]
    }
   ],
   "source": [
    "!pip install stockstats"
   ]
  },
  {
   "cell_type": "code",
   "execution_count": 7,
   "metadata": {},
   "outputs": [
    {
     "name": "stdout",
     "output_type": "stream",
     "text": [
      "Collecting pandas_datareader"
     ]
    },
    {
     "name": "stderr",
     "output_type": "stream",
     "text": [
      "ERROR: After October 2020 you may experience errors when installing or updating packages. This is because pip will change the way that it resolves dependency conflicts.\n",
      "\n",
      "We recommend you use --use-feature=2020-resolver to test your packages with the new resolver before it becomes the default.\n",
      "\n",
      "tensorboard 2.4.1 requires werkzeug>=0.11.15, which is not installed.\n",
      "mxnet 1.5.0 requires numpy<1.17.0,>=1.8.2, but you'll have numpy 1.18.5 which is incompatible.\n",
      "mxnet 1.5.0 requires requests<2.19.0,>=2.18.4, but you'll have requests 2.25.1 which is incompatible.\n",
      "WARNING: You are using pip version 20.2.4; however, version 20.3.3 is available.\n",
      "You should consider upgrading via the 'C:\\Users\\DA01028\\anaconda3\\envs\\fin_project\\python.exe -m pip install --upgrade pip' command.\n"
     ]
    },
    {
     "name": "stdout",
     "output_type": "stream",
     "text": [
      "\n",
      "  Using cached pandas_datareader-0.9.0-py3-none-any.whl (107 kB)\n",
      "Collecting lxml\n",
      "  Using cached lxml-4.6.2-cp38-cp38-win_amd64.whl (3.5 MB)\n",
      "Collecting requests>=2.19.0\n",
      "  Using cached requests-2.25.1-py2.py3-none-any.whl (61 kB)\n",
      "Requirement already satisfied: pandas>=0.23 in c:\\users\\da01028\\anaconda3\\envs\\fin_project\\lib\\site-packages (from pandas_datareader) (1.2.0)\n",
      "Requirement already satisfied: chardet<5,>=3.0.2 in c:\\users\\da01028\\appdata\\roaming\\python\\python38\\site-packages (from requests>=2.19.0->pandas_datareader) (3.0.4)\n",
      "Requirement already satisfied: certifi>=2017.4.17 in c:\\users\\da01028\\appdata\\roaming\\python\\python38\\site-packages (from requests>=2.19.0->pandas_datareader) (2020.12.5)\n",
      "Requirement already satisfied: urllib3<1.27,>=1.21.1 in c:\\users\\da01028\\appdata\\roaming\\python\\python38\\site-packages (from requests>=2.19.0->pandas_datareader) (1.22)\n",
      "Requirement already satisfied: idna<3,>=2.5 in c:\\users\\da01028\\appdata\\roaming\\python\\python38\\site-packages (from requests>=2.19.0->pandas_datareader) (2.6)\n",
      "Requirement already satisfied: numpy>=1.16.5 in c:\\users\\da01028\\appdata\\roaming\\python\\python38\\site-packages (from pandas>=0.23->pandas_datareader) (1.18.5)\n",
      "Requirement already satisfied: python-dateutil>=2.7.3 in c:\\users\\da01028\\appdata\\roaming\\python\\python38\\site-packages (from pandas>=0.23->pandas_datareader) (2.8.1)\n",
      "Requirement already satisfied: pytz>=2017.3 in c:\\users\\da01028\\appdata\\roaming\\python\\python38\\site-packages (from pandas>=0.23->pandas_datareader) (2020.5)\n",
      "Requirement already satisfied: six>=1.5 in c:\\users\\da01028\\appdata\\roaming\\python\\python38\\site-packages (from python-dateutil>=2.7.3->pandas>=0.23->pandas_datareader) (1.15.0)\n",
      "Installing collected packages: lxml, requests, pandas-datareader\n",
      "  Attempting uninstall: requests\n",
      "    Found existing installation: requests 2.18.4\n",
      "    Uninstalling requests-2.18.4:\n",
      "      Successfully uninstalled requests-2.18.4\n",
      "Successfully installed lxml-4.6.2 pandas-datareader-0.9.0 requests-2.25.1\n"
     ]
    }
   ],
   "source": [
    "!pip install pandas_datareader"
   ]
  },
  {
   "cell_type": "code",
   "execution_count": 2,
   "metadata": {},
   "outputs": [],
   "source": [
    "import pandas as pd\n",
    "from stockstats import StockDataFrame\n",
    "from pandas_datareader import data as web\n",
    "from datetime import datetime"
   ]
  },
  {
   "cell_type": "code",
   "execution_count": 7,
   "metadata": {},
   "outputs": [],
   "source": [
    "# thanks to : https://github.com/jealous/stockstats\n",
    "\n",
    "class Stock_analytics_index(): # 建立股票類別\n",
    "    \n",
    "    def __init__(self, stock): # 初始化函數\n",
    "        self.__stock = str(stock) # 接輸入的美股代碼\n",
    "        self.__start_date = datetime(2010, 1, 1) # 股價起始日\n",
    "        self.__end_date = datetime.now() # 股價結束日\n",
    "        self.__get_stock_data() # 呼叫私有方法__get_stock_data (private method)\n",
    "        \n",
    "    def __get_stock_data(self): # 從 pandas_datareader 拿取股價資料\n",
    "        df = web.get_data_yahoo(self.__stock, self.__start_date, self.__end_date)\n",
    "        analysis = f'./{self.__stock}data.csv' # 先建立csv檔案路徑\n",
    "        df.to_csv(analysis) # 在當前資料夾產生該股票的股價資料\n",
    "        data = pd.read_csv(analysis, parse_dates=True, index_col='Date') # 前三行的部份可以使用本機股價檔案來取代\n",
    "        price = data[\"Close\"]\n",
    "        self.__stock = StockDataFrame.retype(pd.read_csv(analysis)) # stockstats需求的dataframe\n",
    "        \n",
    "    def get_rsv_9(self): # 取得該股票的RSV\n",
    "        return self.__stock.get('rsv_9')\n",
    "    \n",
    "    def get_rsi_6(self): # 取得該股票的RSI, RSI(6), 6天的RSI\n",
    "        return self.__stock.get('rsi_6')\n",
    "    \n",
    "    def get_rsi_12(self): # 取得該股票的RSI, RSI(12), 12天的RSI\n",
    "        return self.__stock.get('rsi_12')\n",
    "    \n",
    "    def get_macd(self): # 取得該股票的MACD\n",
    "        return self.__stock['macd']\n",
    "    \n",
    "    def get_macd_12(self): # 取得該股票的MACD, n=12\n",
    "        return self.__stock['close_12_ema']\n",
    "    \n",
    "    def get_macd_26(self): # 取得該股票的MACD, m=26\n",
    "        return self.__stock['close_26_ema']\n",
    "    \n",
    "    def get_macd_9(self): # 取得該股票的MACD, x=9\n",
    "        return self.__stock['close_9_ema']\n",
    "        \n",
    "    def get_ma_5(self): # 取得該股票的 5MA\n",
    "        return self.__stock['cr-ma1']\n",
    "        \n",
    "    def get_ma_10(self): # 取得該股票的 10MA\n",
    "        return self.__stock['cr-ma2']\n",
    "        \n",
    "    def get_ma_20(self): # 取得該股票的 20MA\n",
    "        return self.__stock['cr-ma3']\n",
    "    \n",
    "    def get_bolling(self): # 布林通道中線：20MA\n",
    "        return self.__stock['boll']\n",
    "    \n",
    "    def get_bolling_upper(self): # 布林通道上線\n",
    "        return self.__stock['boll_ub']\n",
    "    \n",
    "    def get_bolling_lower(self): # 布林通道下線\n",
    "        return self.__stock['boll_lb']\n",
    "    \n",
    "    def get_pdm(self): # +DM, window defult 1\n",
    "        return self.__stock['pdm_1']\n",
    "    \n",
    "    def get_mdm(self): # -DM, window default 1\n",
    "        return self.__stock['mdm_1']\n",
    "    \n",
    "    def get_pdi(self): # +DI, 預設14天\n",
    "        return self.__stock['pdi']\n",
    "    \n",
    "    def get_mdi(self): # -DI, 預設14天\n",
    "        return self.__stock['mdi']\n",
    "    \n",
    "    def get_dx(self): # DX, 預設14天的+DI & -DI\n",
    "        return self.__stock['dx']\n",
    "    \n",
    "    def get_adx(self): # ADM, 預設6天的DX SMA\n",
    "        return self.__stock['adx']\n",
    "    \n",
    "    def get_tr(self): # TR\n",
    "        return self.__stock['tr']\n",
    "    \n",
    "    def get_atr(self): # ATR, 平均TR, 預設14天\n",
    "        return self.__stock['atr']\n",
    "        "
   ]
  },
  {
   "cell_type": "code",
   "execution_count": 8,
   "metadata": {},
   "outputs": [],
   "source": [
    "msft = Stock_analytics_index('msft')"
   ]
  },
  {
   "cell_type": "code",
   "execution_count": 9,
   "metadata": {},
   "outputs": [
    {
     "data": {
      "text/plain": [
       "date\n",
       "2009-12-31     0.000000\n",
       "2010-01-04    75.806546\n",
       "2010-01-05    77.419176\n",
       "2010-01-06    46.774278\n",
       "2010-01-07    28.571459\n",
       "                ...    \n",
       "2021-01-14     9.764937\n",
       "2021-01-15     8.217494\n",
       "2021-01-19    52.083337\n",
       "2021-01-20    89.462227\n",
       "2021-01-21    90.679738\n",
       "Name: rsv_9, Length: 2783, dtype: float64"
      ]
     },
     "execution_count": 9,
     "metadata": {},
     "output_type": "execute_result"
    }
   ],
   "source": [
    "msft.get_rsv_9()"
   ]
  },
  {
   "cell_type": "code",
   "execution_count": 67,
   "metadata": {
    "scrolled": true
   },
   "outputs": [
    {
     "data": {
      "text/plain": [
       "date\n",
       "2009-12-31           NaN\n",
       "2010-01-04    100.000000\n",
       "2010-01-05    100.000000\n",
       "2010-01-06     63.790494\n",
       "2010-01-07     36.834415\n",
       "                 ...    \n",
       "2021-01-08     52.455650\n",
       "2021-01-11     45.556112\n",
       "2021-01-12     38.292012\n",
       "2021-01-13     44.175310\n",
       "2021-01-14     34.800491\n",
       "Name: rsi_6, Length: 2779, dtype: float64"
      ]
     },
     "execution_count": 67,
     "metadata": {},
     "output_type": "execute_result"
    }
   ],
   "source": [
    "msft.get_rsi_6()"
   ]
  },
  {
   "cell_type": "code",
   "execution_count": 69,
   "metadata": {},
   "outputs": [
    {
     "data": {
      "text/plain": [
       "date\n",
       "2009-12-31           NaN\n",
       "2010-01-04    100.000000\n",
       "2010-01-05    100.000000\n",
       "2010-01-06     68.018832\n",
       "2010-01-07     42.843802\n",
       "                 ...    \n",
       "2021-01-08     52.355458\n",
       "2021-01-11     48.549046\n",
       "2021-01-12     44.323871\n",
       "2021-01-13     47.090581\n",
       "2021-01-14     41.760153\n",
       "Name: rsi_12, Length: 2779, dtype: float64"
      ]
     },
     "execution_count": 69,
     "metadata": {},
     "output_type": "execute_result"
    }
   ],
   "source": [
    "msft.get_rsi_12()"
   ]
  },
  {
   "cell_type": "code",
   "execution_count": 70,
   "metadata": {},
   "outputs": [
    {
     "data": {
      "text/plain": [
       "date\n",
       "2009-12-31    0.000000\n",
       "2010-01-04    0.010545\n",
       "2010-01-05    0.013746\n",
       "2010-01-06    0.008006\n",
       "2010-01-07   -0.008016\n",
       "                ...   \n",
       "2021-01-08    0.827991\n",
       "2021-01-11    0.651094\n",
       "2021-01-12    0.300861\n",
       "2021-01-13    0.135513\n",
       "2021-01-14   -0.260420\n",
       "Name: macd, Length: 2779, dtype: float64"
      ]
     },
     "execution_count": 70,
     "metadata": {},
     "output_type": "execute_result"
    }
   ],
   "source": [
    "msft.get_macd()"
   ]
  },
  {
   "cell_type": "code",
   "execution_count": 71,
   "metadata": {},
   "outputs": [
    {
     "data": {
      "text/plain": [
       "date\n",
       "2009-12-31     30.480000\n",
       "2010-01-04     30.734584\n",
       "2010-01-05     30.822563\n",
       "2010-01-06     30.805971\n",
       "2010-01-07     30.709255\n",
       "                 ...    \n",
       "2021-01-08    218.938692\n",
       "2021-01-11    218.715817\n",
       "2021-01-12    218.133383\n",
       "2021-01-13    217.857477\n",
       "2021-01-14    217.113251\n",
       "Name: close_12_ema, Length: 2779, dtype: float64"
      ]
     },
     "execution_count": 71,
     "metadata": {},
     "output_type": "execute_result"
    }
   ],
   "source": [
    "msft.get_macd_12()"
   ]
  },
  {
   "cell_type": "code",
   "execution_count": 72,
   "metadata": {},
   "outputs": [
    {
     "data": {
      "text/plain": [
       "date\n",
       "2009-12-31     30.480000\n",
       "2010-01-04     30.724039\n",
       "2010-01-05     30.808817\n",
       "2010-01-06     30.797966\n",
       "2010-01-07     30.717271\n",
       "                 ...    \n",
       "2021-01-08    218.110701\n",
       "2021-01-11    218.064724\n",
       "2021-01-12    217.832521\n",
       "2021-01-13    217.721964\n",
       "2021-01-14    217.373671\n",
       "Name: close_26_ema, Length: 2779, dtype: float64"
      ]
     },
     "execution_count": 72,
     "metadata": {},
     "output_type": "execute_result"
    }
   ],
   "source": [
    "msft.get_macd_26()"
   ]
  },
  {
   "cell_type": "code",
   "execution_count": 73,
   "metadata": {},
   "outputs": [
    {
     "data": {
      "text/plain": [
       "date\n",
       "2009-12-31     30.480000\n",
       "2010-01-04     30.741111\n",
       "2010-01-05     30.830819\n",
       "2010-01-06     30.810217\n",
       "2010-01-07     30.703061\n",
       "                 ...    \n",
       "2021-01-08    218.835929\n",
       "2021-01-11    218.566744\n",
       "2021-01-12    217.839394\n",
       "2021-01-13    217.539515\n",
       "2021-01-14    216.635612\n",
       "Name: close_9_ema, Length: 2779, dtype: float64"
      ]
     },
     "execution_count": 73,
     "metadata": {},
     "output_type": "execute_result"
    }
   ],
   "source": [
    "msft.get_macd_9()"
   ]
  },
  {
   "cell_type": "code",
   "execution_count": 74,
   "metadata": {
    "scrolled": true
   },
   "outputs": [
    {
     "data": {
      "text/plain": [
       "date\n",
       "2009-12-31           NaN\n",
       "2010-01-04           NaN\n",
       "2010-01-05           NaN\n",
       "2010-01-06           NaN\n",
       "2010-01-07    750.007947\n",
       "                 ...    \n",
       "2021-01-08    129.396915\n",
       "2021-01-11    117.044180\n",
       "2021-01-12    110.239793\n",
       "2021-01-13    103.764313\n",
       "2021-01-14    102.051507\n",
       "Name: cr-ma1, Length: 2779, dtype: float64"
      ]
     },
     "execution_count": 74,
     "metadata": {},
     "output_type": "execute_result"
    }
   ],
   "source": [
    "msft.get_ma_5()"
   ]
  },
  {
   "cell_type": "code",
   "execution_count": 75,
   "metadata": {},
   "outputs": [
    {
     "data": {
      "text/plain": [
       "date\n",
       "2009-12-31           NaN\n",
       "2010-01-04           NaN\n",
       "2010-01-05           NaN\n",
       "2010-01-06           NaN\n",
       "2010-01-07           NaN\n",
       "                 ...    \n",
       "2021-01-08    124.563909\n",
       "2021-01-11    124.051158\n",
       "2021-01-12    124.219310\n",
       "2021-01-13    122.334399\n",
       "2021-01-14    121.126501\n",
       "Name: cr-ma2, Length: 2779, dtype: float64"
      ]
     },
     "execution_count": 75,
     "metadata": {},
     "output_type": "execute_result"
    }
   ],
   "source": [
    "msft.get_ma_10()"
   ]
  },
  {
   "cell_type": "code",
   "execution_count": 76,
   "metadata": {},
   "outputs": [
    {
     "data": {
      "text/plain": [
       "date\n",
       "2009-12-31           NaN\n",
       "2010-01-04           NaN\n",
       "2010-01-05           NaN\n",
       "2010-01-06           NaN\n",
       "2010-01-07           NaN\n",
       "                 ...    \n",
       "2021-01-08    106.379587\n",
       "2021-01-11    108.376763\n",
       "2021-01-12    111.016066\n",
       "2021-01-13    113.024125\n",
       "2021-01-14    114.644073\n",
       "Name: cr-ma3, Length: 2779, dtype: float64"
      ]
     },
     "execution_count": 76,
     "metadata": {},
     "output_type": "execute_result"
    }
   ],
   "source": [
    "msft.get_ma_20()"
   ]
  },
  {
   "cell_type": "code",
   "execution_count": 77,
   "metadata": {},
   "outputs": [
    {
     "data": {
      "text/plain": [
       "date\n",
       "2009-12-31     30.480000\n",
       "2010-01-04     30.715000\n",
       "2010-01-05     30.796666\n",
       "2010-01-06     30.790000\n",
       "2010-01-07     30.722000\n",
       "                 ...    \n",
       "2021-01-08    218.932999\n",
       "2021-01-11    219.281499\n",
       "2021-01-12    219.364999\n",
       "2021-01-13    219.471999\n",
       "2021-01-14    219.416499\n",
       "Name: boll, Length: 2779, dtype: float64"
      ]
     },
     "execution_count": 77,
     "metadata": {},
     "output_type": "execute_result"
    }
   ],
   "source": [
    "msft.get_bolling()"
   ]
  },
  {
   "cell_type": "code",
   "execution_count": 78,
   "metadata": {},
   "outputs": [
    {
     "data": {
      "text/plain": [
       "date\n",
       "2009-12-31           NaN\n",
       "2010-01-04     31.379682\n",
       "2010-01-05     31.345241\n",
       "2010-01-06     31.238702\n",
       "2010-01-07     31.215437\n",
       "                 ...    \n",
       "2021-01-08    227.364551\n",
       "2021-01-11    226.772648\n",
       "2021-01-12    226.606617\n",
       "2021-01-13    226.450754\n",
       "2021-01-14    226.589094\n",
       "Name: boll_ub, Length: 2779, dtype: float64"
      ]
     },
     "execution_count": 78,
     "metadata": {},
     "output_type": "execute_result"
    }
   ],
   "source": [
    "msft.get_bolling_upper()"
   ]
  },
  {
   "cell_type": "code",
   "execution_count": 79,
   "metadata": {},
   "outputs": [
    {
     "data": {
      "text/plain": [
       "date\n",
       "2009-12-31           NaN\n",
       "2010-01-04     30.050318\n",
       "2010-01-05     30.248092\n",
       "2010-01-06     30.341298\n",
       "2010-01-07     30.228563\n",
       "                 ...    \n",
       "2021-01-08    210.501447\n",
       "2021-01-11    211.790349\n",
       "2021-01-12    212.123380\n",
       "2021-01-13    212.493244\n",
       "2021-01-14    212.243903\n",
       "Name: boll_lb, Length: 2779, dtype: float64"
      ]
     },
     "execution_count": 79,
     "metadata": {},
     "output_type": "execute_result"
    }
   ],
   "source": [
    "msft.get_bolling_lower()"
   ]
  },
  {
   "cell_type": "code",
   "execution_count": 9,
   "metadata": {
    "scrolled": true
   },
   "outputs": [
    {
     "data": {
      "text/plain": [
       "date\n",
       "2009-12-31    0.000000\n",
       "2010-01-04    0.110001\n",
       "2010-01-05    0.000000\n",
       "2010-01-06    0.000000\n",
       "2010-01-07    0.000000\n",
       "                ...   \n",
       "2021-01-14    0.000000\n",
       "2021-01-15    0.000000\n",
       "2021-01-19    2.470001\n",
       "2021-01-20    8.809998\n",
       "2021-01-21    0.510010\n",
       "Name: pdm_1, Length: 2783, dtype: float64"
      ]
     },
     "execution_count": 9,
     "metadata": {},
     "output_type": "execute_result"
    }
   ],
   "source": [
    "msft.get_pdm()"
   ]
  },
  {
   "cell_type": "code",
   "execution_count": 81,
   "metadata": {
    "scrolled": true
   },
   "outputs": [
    {
     "data": {
      "text/plain": [
       "date\n",
       "2009-12-31    0.000000\n",
       "2010-01-04    0.000000\n",
       "2010-01-05    0.000000\n",
       "2010-01-06    0.119999\n",
       "2010-01-07    0.330000\n",
       "                ...   \n",
       "2021-01-08    0.000000\n",
       "2021-01-11    0.300003\n",
       "2021-01-12    3.409988\n",
       "2021-01-13    0.000000\n",
       "2021-01-14    1.189987\n",
       "Name: mdm_1, Length: 2779, dtype: float64"
      ]
     },
     "execution_count": 81,
     "metadata": {},
     "output_type": "execute_result"
    }
   ],
   "source": [
    "msft.get_mdm()"
   ]
  },
  {
   "cell_type": "code",
   "execution_count": 82,
   "metadata": {},
   "outputs": [
    {
     "data": {
      "text/plain": [
       "date\n",
       "2009-12-31          NaN\n",
       "2010-01-04     9.504648\n",
       "2010-01-05     6.781245\n",
       "2010-01-06     4.635652\n",
       "2010-01-07     3.366506\n",
       "                ...    \n",
       "2021-01-08    21.875508\n",
       "2021-01-11    19.435813\n",
       "2021-01-12    16.879426\n",
       "2021-01-13    14.992625\n",
       "2021-01-14    12.877467\n",
       "Name: pdi, Length: 2779, dtype: float64"
      ]
     },
     "execution_count": 82,
     "metadata": {},
     "output_type": "execute_result"
    }
   ],
   "source": [
    "msft.get_pdi()"
   ]
  },
  {
   "cell_type": "code",
   "execution_count": 83,
   "metadata": {
    "scrolled": true
   },
   "outputs": [
    {
     "data": {
      "text/plain": [
       "date\n",
       "2009-12-31          NaN\n",
       "2010-01-04     0.000000\n",
       "2010-01-05     0.000000\n",
       "2010-01-06     6.732694\n",
       "2010-01-07    20.404065\n",
       "                ...    \n",
       "2021-01-08    25.503815\n",
       "2021-01-11    23.590820\n",
       "2021-01-12    31.096189\n",
       "2021-01-13    27.620221\n",
       "2021-01-14    27.483688\n",
       "Name: mdi, Length: 2779, dtype: float64"
      ]
     },
     "execution_count": 83,
     "metadata": {},
     "output_type": "execute_result"
    }
   ],
   "source": [
    "msft.get_mdi()"
   ]
  },
  {
   "cell_type": "code",
   "execution_count": 84,
   "metadata": {
    "scrolled": true
   },
   "outputs": [
    {
     "data": {
      "text/plain": [
       "date\n",
       "2009-12-31           NaN\n",
       "2010-01-04    100.000000\n",
       "2010-01-05    100.000000\n",
       "2010-01-06     18.446330\n",
       "2010-01-07     71.675012\n",
       "                 ...    \n",
       "2021-01-08      7.657996\n",
       "2021-01-11      9.656827\n",
       "2021-01-12     29.633310\n",
       "2021-01-13     29.633310\n",
       "2021-01-14     36.188809\n",
       "Name: dx, Length: 2779, dtype: float64"
      ]
     },
     "execution_count": 84,
     "metadata": {},
     "output_type": "execute_result"
    }
   ],
   "source": [
    "msft.get_dx()"
   ]
  },
  {
   "cell_type": "code",
   "execution_count": 85,
   "metadata": {
    "scrolled": true
   },
   "outputs": [
    {
     "data": {
      "text/plain": [
       "date\n",
       "2009-12-31           NaN\n",
       "2010-01-04    100.000000\n",
       "2010-01-05    100.000000\n",
       "2010-01-06     63.338258\n",
       "2010-01-07     66.558423\n",
       "                 ...    \n",
       "2021-01-08     21.367296\n",
       "2021-01-11     18.021448\n",
       "2021-01-12     21.339123\n",
       "2021-01-13     23.708890\n",
       "2021-01-14     27.274581\n",
       "Name: adx, Length: 2779, dtype: float64"
      ]
     },
     "execution_count": 85,
     "metadata": {},
     "output_type": "execute_result"
    }
   ],
   "source": [
    "msft.get_adx()"
   ]
  },
  {
   "cell_type": "code",
   "execution_count": 86,
   "metadata": {
    "scrolled": true
   },
   "outputs": [
    {
     "data": {
      "text/plain": [
       "date\n",
       "2009-12-31         NaN\n",
       "2010-01-04    0.620001\n",
       "2010-01-05    0.460001\n",
       "2010-01-06    0.559999\n",
       "2010-01-07    0.580000\n",
       "                ...   \n",
       "2021-01-08    3.550003\n",
       "2021-01-11    2.889999\n",
       "2021-01-12    4.169998\n",
       "2021-01-13    2.830002\n",
       "2021-01-14    4.709991\n",
       "Name: tr, Length: 2779, dtype: float64"
      ]
     },
     "execution_count": 86,
     "metadata": {},
     "output_type": "execute_result"
    }
   ],
   "source": [
    "msft.get_tr()"
   ]
  },
  {
   "cell_type": "code",
   "execution_count": 87,
   "metadata": {},
   "outputs": [
    {
     "data": {
      "text/plain": [
       "date\n",
       "2009-12-31         NaN\n",
       "2010-01-04    0.620001\n",
       "2010-01-05    0.537038\n",
       "2010-01-06    0.545265\n",
       "2010-01-07    0.554937\n",
       "                ...   \n",
       "2021-01-08    4.402940\n",
       "2021-01-11    4.294872\n",
       "2021-01-12    4.285953\n",
       "2021-01-13    4.181956\n",
       "2021-01-14    4.219673\n",
       "Name: atr, Length: 2779, dtype: float64"
      ]
     },
     "execution_count": 87,
     "metadata": {},
     "output_type": "execute_result"
    }
   ],
   "source": [
    "msft.get_atr()"
   ]
  },
  {
   "cell_type": "code",
   "execution_count": null,
   "metadata": {},
   "outputs": [],
   "source": []
  },
  {
   "cell_type": "code",
   "execution_count": 63,
   "metadata": {},
   "outputs": [
    {
     "data": {
      "text/plain": [
       "date\n",
       "2000-01-03    68.867925\n",
       "2000-01-04     9.433962\n",
       "2000-01-05    47.972973\n",
       "2000-01-06    15.853659\n",
       "2000-01-07    36.464088\n",
       "                ...    \n",
       "2021-01-06     2.034106\n",
       "2021-01-07    41.666633\n",
       "2021-01-08    50.393685\n",
       "2021-01-11    36.417366\n",
       "2021-01-12    23.959081\n",
       "Name: rsv_9, Length: 5291, dtype: float64"
      ]
     },
     "execution_count": 63,
     "metadata": {},
     "output_type": "execute_result"
    }
   ],
   "source": [
    "# RSV\n",
    "# RSV = (今日收盤價 - 最近九天的最低價)/(最近九天的最高價 - 最近九天最低價)\n",
    "# K = 2/3 X (昨日K值) + 1/3 X (今日RSV)\n",
    "# D = 2/3 X (昨日D值) + 1/3 X (今日K值)\n",
    "\n",
    "stock.get('rsv_9')"
   ]
  },
  {
   "cell_type": "code",
   "execution_count": null,
   "metadata": {},
   "outputs": [],
   "source": [
    "# RSI\n",
    "# RSI:n日漲幅平均值÷(n日漲幅平均值+ n日跌幅平均值) × 100\n",
    "# n日漲幅平均值 = n日內上漲日總上漲幅度加總 ÷ n\n",
    "# n日跌幅平均值 = n日內下跌日總下跌幅度加總 ÷ n\n",
    "# RSI(6)、RSI(12)\n",
    "\n",
    "stock.get('rsi_6')\n",
    "stock.get('rsi_12')"
   ]
  },
  {
   "cell_type": "code",
   "execution_count": 38,
   "metadata": {
    "scrolled": true
   },
   "outputs": [
    {
     "name": "stdout",
     "output_type": "stream",
     "text": [
      "12\n",
      "26\n",
      "9\n"
     ]
    }
   ],
   "source": [
    "# MACD\n",
    "# nEMA=(前一日nEMA(n-1)＋今日收盤價×2)/(n+1)\n",
    "# mEMA=(前一日mEMA(m-1)＋今日收盤價×2)/(m+1)\n",
    "# DIF=nEMA－mEMA\n",
    "# xMACD=(前一日xMACD*(x-1)＋DIF×2)/(x+1)\n",
    "# n=12，m=26，x=9\n",
    "\n",
    "stock['macd']\n",
    "\n",
    "stock['close_12_ema']\n",
    "print(stock.MACD_EMA_SHORT)\n",
    "\n",
    "stock['close_26_ema']\n",
    "print(stock.MACD_EMA_LONG)\n",
    "\n",
    "stock['close_9_ema']\n",
    "print(stock.MACD_EMA_SIGNAL)"
   ]
  }
 ],
 "metadata": {
  "kernelspec": {
   "display_name": "Python 3",
   "language": "python",
   "name": "python3"
  },
  "language_info": {
   "codemirror_mode": {
    "name": "ipython",
    "version": 3
   },
   "file_extension": ".py",
   "mimetype": "text/x-python",
   "name": "python",
   "nbconvert_exporter": "python",
   "pygments_lexer": "ipython3",
   "version": "3.8.5"
  }
 },
 "nbformat": 4,
 "nbformat_minor": 4
}
