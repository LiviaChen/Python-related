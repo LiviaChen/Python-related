{
 "cells": [
  {
   "cell_type": "code",
   "execution_count": 1,
   "metadata": {
    "scrolled": true
   },
   "outputs": [
    {
     "name": "stdout",
     "output_type": "stream",
     "text": [
      "Collecting stockstats\n",
      "  Downloading stockstats-0.3.2-py2.py3-none-any.whl (13 kB)\n",
      "Requirement already satisfied: pandas>=0.18.1 in /Users/LiviaChen/opt/anaconda3/lib/python3.8/site-packages (from stockstats) (1.0.5)\n",
      "Requirement already satisfied: numpy>=1.9.2 in /Users/LiviaChen/opt/anaconda3/lib/python3.8/site-packages (from stockstats) (1.18.5)\n",
      "Collecting int-date>=0.1.7\n",
      "  Downloading int_date-0.1.8-py2.py3-none-any.whl (5.0 kB)\n",
      "Requirement already satisfied: pytz>=2017.2 in /Users/LiviaChen/opt/anaconda3/lib/python3.8/site-packages (from pandas>=0.18.1->stockstats) (2020.1)\n",
      "Requirement already satisfied: python-dateutil>=2.6.1 in /Users/LiviaChen/opt/anaconda3/lib/python3.8/site-packages (from pandas>=0.18.1->stockstats) (2.8.1)\n",
      "Requirement already satisfied: six>=1.9.0 in /Users/LiviaChen/opt/anaconda3/lib/python3.8/site-packages (from int-date>=0.1.7->stockstats) (1.15.0)\n",
      "Installing collected packages: int-date, stockstats\n",
      "Successfully installed int-date-0.1.8 stockstats-0.3.2\n"
     ]
    }
   ],
   "source": [
    "!pip install stockstats"
   ]
  },
  {
   "cell_type": "code",
   "execution_count": 41,
   "metadata": {},
   "outputs": [
    {
     "name": "stdout",
     "output_type": "stream",
     "text": [
      "Requirement already satisfied: yfinance in /Users/LiviaChen/opt/anaconda3/envs/ZC/lib/python3.8/site-packages (0.1.55)\n",
      "Collecting import\n",
      "  Downloading import-0.0.1.tar.gz (1.0 kB)\n",
      "Collecting as\n",
      "  Downloading as-0.1-py3-none-any.whl (2.2 kB)\n",
      "Collecting yf\n",
      "  Downloading yf-0.0.2-py3-none-any.whl (8.8 kB)\n",
      "Requirement already satisfied: multitasking>=0.0.7 in /Users/LiviaChen/opt/anaconda3/envs/ZC/lib/python3.8/site-packages (from yfinance) (0.0.9)\n",
      "Requirement already satisfied: pandas>=0.24 in /Users/LiviaChen/opt/anaconda3/envs/ZC/lib/python3.8/site-packages (from yfinance) (1.2.0)\n",
      "Requirement already satisfied: numpy>=1.15 in /Users/LiviaChen/opt/anaconda3/envs/ZC/lib/python3.8/site-packages (from yfinance) (1.19.5)\n",
      "Requirement already satisfied: requests>=2.20 in /Users/LiviaChen/opt/anaconda3/envs/ZC/lib/python3.8/site-packages (from yfinance) (2.24.0)\n",
      "Requirement already satisfied: lxml>=4.5.1 in /Users/LiviaChen/opt/anaconda3/envs/ZC/lib/python3.8/site-packages (from yfinance) (4.6.2)\n",
      "Requirement already satisfied: python-dateutil>=2.7.3 in /Users/LiviaChen/opt/anaconda3/envs/ZC/lib/python3.8/site-packages (from pandas>=0.24->yfinance) (2.8.1)\n",
      "Requirement already satisfied: pytz>=2017.3 in /Users/LiviaChen/opt/anaconda3/envs/ZC/lib/python3.8/site-packages (from pandas>=0.24->yfinance) (2020.5)\n",
      "Requirement already satisfied: certifi>=2017.4.17 in /Users/LiviaChen/opt/anaconda3/envs/ZC/lib/python3.8/site-packages (from requests>=2.20->yfinance) (2020.6.20)\n",
      "Requirement already satisfied: chardet<4,>=3.0.2 in /Users/LiviaChen/opt/anaconda3/envs/ZC/lib/python3.8/site-packages (from requests>=2.20->yfinance) (3.0.4)\n",
      "Requirement already satisfied: idna<3,>=2.5 in /Users/LiviaChen/opt/anaconda3/envs/ZC/lib/python3.8/site-packages (from requests>=2.20->yfinance) (2.10)\n",
      "Requirement already satisfied: urllib3!=1.25.0,!=1.25.1,<1.26,>=1.21.1 in /Users/LiviaChen/opt/anaconda3/envs/ZC/lib/python3.8/site-packages (from requests>=2.20->yfinance) (1.25.10)\n",
      "Requirement already satisfied: six>=1.5 in /Users/LiviaChen/opt/anaconda3/envs/ZC/lib/python3.8/site-packages (from python-dateutil>=2.7.3->pandas>=0.24->yfinance) (1.15.0)\n",
      "Building wheels for collected packages: import\n",
      "  Building wheel for import (setup.py) ... \u001b[?25ldone\n",
      "\u001b[?25h  Created wheel for import: filename=import-0.0.1-py3-none-any.whl size=1529 sha256=6c4cdb9d482a492c31391ee92f59122a025e70ab7a326cbd39b0a21b28f3385a\n",
      "  Stored in directory: /Users/LiviaChen/Library/Caches/pip/wheels/b0/b0/37/8e17c99d2fb8bc334aa69e079f4e92e7f4a086bb4428c6a7c2\n",
      "Successfully built import\n",
      "Installing collected packages: import, as, yf\n",
      "Successfully installed as-0.1 import-0.0.1 yf-0.0.2\n",
      "Note: you may need to restart the kernel to use updated packages.\n"
     ]
    }
   ],
   "source": [
    "!pip install yfinance"
   ]
  },
  {
   "cell_type": "code",
   "execution_count": 1,
   "metadata": {},
   "outputs": [],
   "source": [
    "import pandas as pd\n",
    "from stockstats import StockDataFrame\n",
    "from pandas_datareader import data as web\n",
    "from datetime import datetime\n",
    "import yfinance as yf"
   ]
  },
  {
   "cell_type": "code",
   "execution_count": 21,
   "metadata": {},
   "outputs": [],
   "source": [
    "class Stock_analytics_index(): # 建立股票類別\n",
    "    def __init__(self, stock):\n",
    "        self.__stock = str(stock)\n",
    "        self.__start_date = datetime(2000, 1, 1)\n",
    "        self.__end_date = datetime.now()\n",
    "        self.__get_stock_data()\n",
    "    def __get_stock_data(self): # 從 yfinance 拿取股價資料\n",
    "        df = web.get_data_yahoo(self.__stock, self.__start_date, self.__end_date)\n",
    "        analysis = f'./{self.__stock}data.csv'\n",
    "        df.to_csv(analysis) # 在當前資料夾產生該股票的股價資料\n",
    "        data = pd.read_csv(analysis, parse_dates=True, index_col='Date')\n",
    "        price = data[\"Close\"]\n",
    "        self.__stock = StockDataFrame.retype(pd.read_csv(analysis))\n",
    "        \n",
    "    def get_rsv_9(self): # 取得該股票的RSV\n",
    "        return self.__stock.get('rsv_9')\n",
    "    \n",
    "    def get_rsi_6(self): # 取得該股票的RSI, RSI(6)\n",
    "        return self.__stock.get('rsi_6')\n",
    "    \n",
    "    def get_rsi_9(self): # 取得該股票的RSI, RSI(9)\n",
    "        return self.__stock.get('rsi_9')\n",
    "    \n",
    "    def get_macd(self): # 取得該股票的MACD\n",
    "        return self.__stock['macd']\n",
    "    \n",
    "    def get_macd_12(self): # 取得該股票的MACD, n=12\n",
    "        return self.__stock['close_12_ema']\n",
    "    \n",
    "    def get_macd_26(self): # 取得該股票的MACD, m=26\n",
    "        return self.__stock['close_26_ema']\n",
    "    \n",
    "    def get_macd_9(self): # 取得該股票的MACD, x=9\n",
    "        return self.__stock['close_9_ema']\n",
    "\n",
    "        \n",
    "        "
   ]
  },
  {
   "cell_type": "code",
   "execution_count": 22,
   "metadata": {},
   "outputs": [],
   "source": [
    "msft = Stock_analytics_index('msft')"
   ]
  },
  {
   "cell_type": "code",
   "execution_count": 23,
   "metadata": {},
   "outputs": [
    {
     "data": {
      "text/plain": [
       "date\n",
       "1999-12-31    33.333333\n",
       "2000-01-03    68.867925\n",
       "2000-01-04     9.433962\n",
       "2000-01-05    47.972973\n",
       "2000-01-06    15.853659\n",
       "                ...    \n",
       "2021-01-06     2.034106\n",
       "2021-01-07    41.666633\n",
       "2021-01-08    50.393685\n",
       "2021-01-11    36.417366\n",
       "2021-01-12    21.840684\n",
       "Name: rsv_9, Length: 5292, dtype: float64"
      ]
     },
     "execution_count": 23,
     "metadata": {},
     "output_type": "execute_result"
    }
   ],
   "source": [
    "msft.get_rsv_9()"
   ]
  },
  {
   "cell_type": "code",
   "execution_count": 24,
   "metadata": {
    "scrolled": true
   },
   "outputs": [
    {
     "data": {
      "text/plain": [
       "date\n",
       "1999-12-31          NaN\n",
       "2000-01-03     0.000000\n",
       "2000-01-04     0.000000\n",
       "2000-01-05    25.821065\n",
       "2000-01-06    12.944249\n",
       "                ...    \n",
       "2021-01-06    23.678695\n",
       "2021-01-07    48.388265\n",
       "2021-01-08    52.455650\n",
       "2021-01-11    45.556112\n",
       "2021-01-12    38.292012\n",
       "Name: rsi_6, Length: 5292, dtype: float64"
      ]
     },
     "execution_count": 24,
     "metadata": {},
     "output_type": "execute_result"
    }
   ],
   "source": [
    "msft.get_rsi_6()"
   ]
  },
  {
   "cell_type": "code",
   "execution_count": 25,
   "metadata": {},
   "outputs": [
    {
     "data": {
      "text/plain": [
       "date\n",
       "1999-12-31          NaN\n",
       "2000-01-03     0.000000\n",
       "2000-01-04     0.000000\n",
       "2000-01-05    24.557204\n",
       "2000-01-06    13.014111\n",
       "                ...    \n",
       "2021-01-06    32.678734\n",
       "2021-01-07    49.170954\n",
       "2021-01-08    52.079125\n",
       "2021-01-11    47.212349\n",
       "2021-01-12    41.916021\n",
       "Name: rsi_9, Length: 5292, dtype: float64"
      ]
     },
     "execution_count": 25,
     "metadata": {},
     "output_type": "execute_result"
    }
   ],
   "source": [
    "msft.get_rsi_9()"
   ]
  },
  {
   "cell_type": "code",
   "execution_count": 26,
   "metadata": {},
   "outputs": [
    {
     "data": {
      "text/plain": [
       "date\n",
       "1999-12-31    0.000000\n",
       "2000-01-03   -0.002103\n",
       "2000-01-04   -0.063731\n",
       "2000-01-05   -0.068761\n",
       "2000-01-06   -0.145901\n",
       "                ...   \n",
       "2021-01-06    0.944287\n",
       "2021-01-07    0.824861\n",
       "2021-01-08    0.827991\n",
       "2021-01-11    0.651094\n",
       "2021-01-12    0.300861\n",
       "Name: macd, Length: 5292, dtype: float64"
      ]
     },
     "execution_count": 26,
     "metadata": {},
     "output_type": "execute_result"
    }
   ],
   "source": [
    "msft.get_macd()"
   ]
  },
  {
   "cell_type": "code",
   "execution_count": 27,
   "metadata": {},
   "outputs": [
    {
     "data": {
      "text/plain": [
       "date\n",
       "1999-12-31     58.375000\n",
       "2000-01-03     58.324219\n",
       "2000-01-04     57.539044\n",
       "2000-01-05     57.339296\n",
       "2000-01-06     56.703718\n",
       "                 ...    \n",
       "2021-01-06    218.910242\n",
       "2021-01-07    218.814819\n",
       "2021-01-08    218.938692\n",
       "2021-01-11    218.715817\n",
       "2021-01-12    218.133383\n",
       "Name: close_12_ema, Length: 5292, dtype: float64"
      ]
     },
     "execution_count": 27,
     "metadata": {},
     "output_type": "execute_result"
    }
   ],
   "source": [
    "msft.get_macd_12()"
   ]
  },
  {
   "cell_type": "code",
   "execution_count": 28,
   "metadata": {},
   "outputs": [
    {
     "data": {
      "text/plain": [
       "date\n",
       "1999-12-31     58.375000\n",
       "2000-01-03     58.326322\n",
       "2000-01-04     57.602775\n",
       "2000-01-05     57.408057\n",
       "2000-01-06     56.849619\n",
       "                 ...    \n",
       "2021-01-06    217.965955\n",
       "2021-01-07    217.989958\n",
       "2021-01-08    218.110701\n",
       "2021-01-11    218.064724\n",
       "2021-01-12    217.832521\n",
       "Name: close_26_ema, Length: 5292, dtype: float64"
      ]
     },
     "execution_count": 28,
     "metadata": {},
     "output_type": "execute_result"
    }
   ],
   "source": [
    "msft.get_macd_26()"
   ]
  },
  {
   "cell_type": "code",
   "execution_count": 29,
   "metadata": {},
   "outputs": [
    {
     "data": {
      "text/plain": [
       "date\n",
       "1999-12-31     58.375000\n",
       "2000-01-03     58.322917\n",
       "2000-01-04     57.498975\n",
       "2000-01-05     57.298188\n",
       "2000-01-06     56.614529\n",
       "                 ...    \n",
       "2021-01-06    218.727392\n",
       "2021-01-07    218.639913\n",
       "2021-01-08    218.835929\n",
       "2021-01-11    218.566744\n",
       "2021-01-12    217.839394\n",
       "Name: close_9_ema, Length: 5292, dtype: float64"
      ]
     },
     "execution_count": 29,
     "metadata": {},
     "output_type": "execute_result"
    }
   ],
   "source": [
    "msft.get_macd_9()"
   ]
  },
  {
   "cell_type": "code",
   "execution_count": null,
   "metadata": {},
   "outputs": [],
   "source": []
  },
  {
   "cell_type": "code",
   "execution_count": 63,
   "metadata": {},
   "outputs": [
    {
     "data": {
      "text/plain": [
       "date\n",
       "2000-01-03    68.867925\n",
       "2000-01-04     9.433962\n",
       "2000-01-05    47.972973\n",
       "2000-01-06    15.853659\n",
       "2000-01-07    36.464088\n",
       "                ...    \n",
       "2021-01-06     2.034106\n",
       "2021-01-07    41.666633\n",
       "2021-01-08    50.393685\n",
       "2021-01-11    36.417366\n",
       "2021-01-12    23.959081\n",
       "Name: rsv_9, Length: 5291, dtype: float64"
      ]
     },
     "execution_count": 63,
     "metadata": {},
     "output_type": "execute_result"
    }
   ],
   "source": [
    "# RSV\n",
    "# RSV = (今日收盤價 - 最近九天的最低價)/(最近九天的最高價 - 最近九天最低價)\n",
    "# K = 2/3 X (昨日K值) + 1/3 X (今日RSV)\n",
    "# D = 2/3 X (昨日D值) + 1/3 X (今日K值)\n",
    "\n",
    "stock.get('rsv_9')"
   ]
  },
  {
   "cell_type": "code",
   "execution_count": null,
   "metadata": {},
   "outputs": [],
   "source": [
    "# RSI\n",
    "# RSI:n日漲幅平均值÷(n日漲幅平均值+ n日跌幅平均值) × 100\n",
    "# n日漲幅平均值 = n日內上漲日總上漲幅度加總 ÷ n\n",
    "# n日跌幅平均值 = n日內下跌日總下跌幅度加總 ÷ n\n",
    "# RSI(6)、RSI(12)\n",
    "\n",
    "stock.get('rsi_6')\n",
    "stock.get('rsi_12')"
   ]
  },
  {
   "cell_type": "code",
   "execution_count": 38,
   "metadata": {
    "scrolled": true
   },
   "outputs": [
    {
     "name": "stdout",
     "output_type": "stream",
     "text": [
      "12\n",
      "26\n",
      "9\n"
     ]
    }
   ],
   "source": [
    "# MACD\n",
    "# nEMA=(前一日nEMA(n-1)＋今日收盤價×2)/(n+1)\n",
    "# mEMA=(前一日mEMA(m-1)＋今日收盤價×2)/(m+1)\n",
    "# DIF=nEMA－mEMA\n",
    "# xMACD=(前一日xMACD*(x-1)＋DIF×2)/(x+1)\n",
    "# n=12，m=26，x=9\n",
    "\n",
    "stock['macd']\n",
    "\n",
    "stock['close_12_ema']\n",
    "print(stock.MACD_EMA_SHORT)\n",
    "\n",
    "stock['close_26_ema']\n",
    "print(stock.MACD_EMA_LONG)\n",
    "\n",
    "stock['close_9_ema']\n",
    "print(stock.MACD_EMA_SIGNAL)"
   ]
  },
  {
   "cell_type": "code",
   "execution_count": null,
   "metadata": {},
   "outputs": [],
   "source": []
  }
 ],
 "metadata": {
  "kernelspec": {
   "display_name": "Python 3",
   "language": "python",
   "name": "python3"
  },
  "language_info": {
   "codemirror_mode": {
    "name": "ipython",
    "version": 3
   },
   "file_extension": ".py",
   "mimetype": "text/x-python",
   "name": "python",
   "nbconvert_exporter": "python",
   "pygments_lexer": "ipython3",
   "version": "3.8.5"
  }
 },
 "nbformat": 4,
 "nbformat_minor": 4
}
