{
 "cells": [
  {
   "cell_type": "code",
   "execution_count": 1,
   "metadata": {},
   "outputs": [],
   "source": [
    "import requests\n",
    "import time\n",
    "import random\n",
    "import pandas as pd\n",
    "from bs4 import BeautifulSoup\n",
    "from datetime import datetime\n",
    "import json\n",
    "import re"
   ]
  },
  {
   "cell_type": "code",
   "execution_count": 54,
   "metadata": {},
   "outputs": [
    {
     "name": "stdout",
     "output_type": "stream",
     "text": [
      "['https://udn.com/news/story/120944/4338169', 'https://opinion.udn.com/opinion/story/120902/4337076', 'https://udn.com/news/story/120940/4330412', 'https://health.udn.com/health/story/121019/4307194', 'https://ubrand.udn.com/ubrand/story/12117/4174194']\n",
      "49570\n"
     ]
    }
   ],
   "source": [
    "total_links = []\n",
    "with open(r'.\\links_covid_v3.csv', 'r', encoding = 'utf-8-sig') as single_list :\n",
    "    for each_line in single_list.readlines() :\n",
    "        total_links.append(each_line.replace('\\n', ''))\n",
    "print(total_links[-5:])\n",
    "\n",
    "print(len(total_links))"
   ]
  },
  {
   "cell_type": "code",
   "execution_count": 55,
   "metadata": {
    "scrolled": true
   },
   "outputs": [
    {
     "name": "stdout",
     "output_type": "stream",
     "text": [
      "2021-01-16 16:48:15.655277\n",
      "https://udn.com/api/more?page=2560&id=search:covid-19&channelId=2&type=searchword&last_page=2533\n",
      "https://udn.com/api/more?page=2561&id=search:covid-19&channelId=2&type=searchword&last_page=2533\n"
     ]
    },
    {
     "ename": "KeyboardInterrupt",
     "evalue": "",
     "output_type": "error",
     "traceback": [
      "\u001b[1;31m---------------------------------------------------------------------------\u001b[0m",
      "\u001b[1;31mKeyboardInterrupt\u001b[0m                         Traceback (most recent call last)",
      "\u001b[1;32m<ipython-input-55-7703c53297a2>\u001b[0m in \u001b[0;36m<module>\u001b[1;34m\u001b[0m\n\u001b[0;32m     36\u001b[0m                 \u001b[0mtotal_links\u001b[0m\u001b[1;33m.\u001b[0m\u001b[0mappend\u001b[0m\u001b[1;33m(\u001b[0m\u001b[0mjson_str\u001b[0m\u001b[1;33m[\u001b[0m\u001b[1;34m'lists'\u001b[0m\u001b[1;33m]\u001b[0m\u001b[1;33m[\u001b[0m\u001b[0mi\u001b[0m\u001b[1;33m]\u001b[0m\u001b[1;33m[\u001b[0m\u001b[1;34m'titleLink'\u001b[0m\u001b[1;33m]\u001b[0m\u001b[1;33m)\u001b[0m\u001b[1;33m\u001b[0m\u001b[1;33m\u001b[0m\u001b[0m\n\u001b[0;32m     37\u001b[0m     \u001b[0msleep_time\u001b[0m \u001b[1;33m=\u001b[0m \u001b[0mrandom\u001b[0m\u001b[1;33m.\u001b[0m\u001b[0mrandint\u001b[0m\u001b[1;33m(\u001b[0m\u001b[1;36m6\u001b[0m\u001b[1;33m,\u001b[0m \u001b[1;36m10\u001b[0m\u001b[1;33m)\u001b[0m\u001b[1;33m\u001b[0m\u001b[1;33m\u001b[0m\u001b[0m\n\u001b[1;32m---> 38\u001b[1;33m     \u001b[0mtime\u001b[0m\u001b[1;33m.\u001b[0m\u001b[0msleep\u001b[0m\u001b[1;33m(\u001b[0m\u001b[0msleep_time\u001b[0m\u001b[1;33m)\u001b[0m\u001b[1;33m\u001b[0m\u001b[1;33m\u001b[0m\u001b[0m\n\u001b[0m\u001b[0;32m     39\u001b[0m \u001b[1;33m\u001b[0m\u001b[0m\n\u001b[0;32m     40\u001b[0m \u001b[0mprint\u001b[0m\u001b[1;33m(\u001b[0m\u001b[0mdatetime\u001b[0m\u001b[1;33m.\u001b[0m\u001b[0mnow\u001b[0m\u001b[1;33m(\u001b[0m\u001b[1;33m)\u001b[0m\u001b[1;33m)\u001b[0m\u001b[1;33m\u001b[0m\u001b[1;33m\u001b[0m\u001b[0m\n",
      "\u001b[1;31mKeyboardInterrupt\u001b[0m: "
     ]
    }
   ],
   "source": [
    "# 以下程式碼會先將所有新聞文章網址爬下來\n",
    "# url_1 = 'https://udn.com/search/word/2/%E6%96%B0%E5%86%A0%E8%82%BA%E7%82%8E' # 新冠肺炎\n",
    "# url_2 = 'https://udn.com/search/word/2/%E6%AD%A6%E6%BC%A2%E8%82%BA%E7%82%8E' # 武漢肺炎\n",
    "# url_3 = 'https://udn.com/search/word/2/covid-19' # covid-19\n",
    "\n",
    "print(datetime.now())\n",
    "\n",
    "# total_links = []\n",
    "\n",
    "for i in range(2560, 2570):\n",
    "    # start with page 75, since the previous pages is all on 2021, end by 5375 # 新冠肺炎\n",
    "    # start with page 1, end by 1139 # 武漢肺炎\n",
    "    # start with page 57, til 1082, til 1670, end by 2534 # covid-19\n",
    "    url = f'https://udn.com/api/more?page={i}&id=search:covid-19&channelId=2&type=searchword&last_page=2533'\n",
    "    print(url)\n",
    "    headers = {\n",
    "        'accept': 'text/html,application/xhtml+xml,application/xml;q=0.9,image/avif,image/webp,image/apng,*/*;q=0.8,application/signed-exchange;v=b3;q=0.9',\n",
    "        'accept-encoding': 'gzip, deflate, br',\n",
    "        'accept-language': 'en-US,en;q=0.9,zh-TW;q=0.8,zh;q=0.7',\n",
    "        'sec-fetch-dest': 'document',\n",
    "        'sec-fetch-mode': 'navigate',\n",
    "        'sec-fetch-site': 'none',\n",
    "        'sec-fetch-user': '?1',\n",
    "        'upgrade-insecure-requests': '1',\n",
    "        'user-agent': 'Mozilla/5.0 (Macintosh; Intel Mac OS X 10_15_4) AppleWebKit/537.36 (KHTML, like Gecko) Chrome/87.0.4280.88 Safari/537.36'\n",
    "    }\n",
    "    res = requests.get(url, headers=headers)\n",
    "    json_str = json.loads(res.text)\n",
    "\n",
    "    for i in range(0, len(json_str['lists'])):\n",
    "        date = json_str['lists'][i]['time']['dateTime']\n",
    "        date_formatter = \"%Y-%m-%d %H:%M:%S\"\n",
    "        if (datetime.strptime(date, date_formatter) > datetime.strptime('2019-11-01', '%Y-%m-%d')) and \\\n",
    "                (datetime.strptime(date, date_formatter) < datetime.strptime('2021-01-01', '%Y-%m-%d')):\n",
    "            if (json_str['lists'][i]['titleLink']) not in total_links:  # to connect original list after error happened\n",
    "                total_links.append(json_str['lists'][i]['titleLink'])\n",
    "    sleep_time = random.randint(6, 10)\n",
    "    time.sleep(sleep_time)\n",
    "\n",
    "print(datetime.now())\n",
    "\n"
   ]
  },
  {
   "cell_type": "code",
   "execution_count": 56,
   "metadata": {},
   "outputs": [],
   "source": [
    "column = ['link']\n",
    "df = pd.DataFrame(data = total_links, columns = column)\n",
    "df.to_csv(r'./links_covid_v4.csv', index=0, encoding='utf-8-sig', header=None)\n"
   ]
  },
  {
   "cell_type": "code",
   "execution_count": null,
   "metadata": {},
   "outputs": [],
   "source": []
  }
 ],
 "metadata": {
  "kernelspec": {
   "display_name": "Python 3",
   "language": "python",
   "name": "python3"
  },
  "language_info": {
   "codemirror_mode": {
    "name": "ipython",
    "version": 3
   },
   "file_extension": ".py",
   "mimetype": "text/x-python",
   "name": "python",
   "nbconvert_exporter": "python",
   "pygments_lexer": "ipython3",
   "version": "3.8.6"
  }
 },
 "nbformat": 4,
 "nbformat_minor": 4
}
