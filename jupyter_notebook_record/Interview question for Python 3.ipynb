{
 "cells": [
  {
   "cell_type": "code",
   "execution_count": 1,
   "id": "abroad-powder",
   "metadata": {},
   "outputs": [],
   "source": [
    "input_value = {\n",
    "  'hired': {\n",
    "    'be': {\n",
    "      'to': {\n",
    "        'deserve': 'I'\n",
    "      }\n",
    "    }\n",
    "  }\n",
    "}"
   ]
  },
  {
   "cell_type": "code",
   "execution_count": 2,
   "id": "uniform-armor",
   "metadata": {},
   "outputs": [],
   "source": [
    "def reverse_nested_dict(input_value) :\n",
    "    for first, second_layer in input_value.items():\n",
    "        for second, third_layer in second_layer.items():\n",
    "            for third, forth_layer in third_layer.items():\n",
    "                for forth, fifth in forth_layer.items():\n",
    "                    output_value = {fifth:{forth:{third:{second:first}}}}\n",
    "                    return output_value"
   ]
  },
  {
   "cell_type": "code",
   "execution_count": 3,
   "id": "ranging-position",
   "metadata": {},
   "outputs": [
    {
     "data": {
      "text/plain": [
       "{'I': {'deserve': {'to': {'be': 'hired'}}}}"
      ]
     },
     "execution_count": 3,
     "metadata": {},
     "output_type": "execute_result"
    }
   ],
   "source": [
    "output_vlaue = reverse_nested_dict(input_value)"
   ]
  },
  {
   "cell_type": "code",
   "execution_count": 4,
   "id": "humanitarian-warren",
   "metadata": {},
   "outputs": [
    {
     "name": "stderr",
     "output_type": "stream",
     "text": [
      "E\n",
      "======================================================================\n",
      "ERROR: /Users/LiviaChen/Library/Jupyter/runtime/kernel-54f75b0d-d9b0-42a9-96a7-c90e122ca1b8 (unittest.loader._FailedTest)\n",
      "----------------------------------------------------------------------\n",
      "AttributeError: module '__main__' has no attribute '/Users/LiviaChen/Library/Jupyter/runtime/kernel-54f75b0d-d9b0-42a9-96a7-c90e122ca1b8'\n",
      "\n",
      "----------------------------------------------------------------------\n",
      "Ran 1 test in 0.003s\n",
      "\n",
      "FAILED (errors=1)\n"
     ]
    },
    {
     "ename": "SystemExit",
     "evalue": "True",
     "output_type": "error",
     "traceback": [
      "An exception has occurred, use %tb to see the full traceback.\n",
      "\u001b[0;31mSystemExit\u001b[0m\u001b[0;31m:\u001b[0m True\n"
     ]
    },
    {
     "name": "stderr",
     "output_type": "stream",
     "text": [
      "/Users/LiviaChen/opt/anaconda3/envs/ml/lib/python3.7/site-packages/IPython/core/interactiveshell.py:3445: UserWarning: To exit: use 'exit', 'quit', or Ctrl-D.\n",
      "  warn(\"To exit: use 'exit', 'quit', or Ctrl-D.\", stacklevel=1)\n"
     ]
    }
   ],
   "source": [
    "import unittest\n",
    "class TestStringMethods(unittest.TestCase):\n",
    "    def test_reverse(self):\n",
    "        self.assertEqual(input_value, reverse_nested_dict(output_value))\n",
    "#     def test_isupper(self):\n",
    "#         self.assertTrue('FOO'.isupper())\n",
    "#         self.assertFalse('Foo'.isupper())\n",
    "#     def test_split(self):\n",
    "#         s = 'hello world'\n",
    "#         self.assertEqual(s.split(), ['hello', 'world'])\n",
    "#         # check that s.split fails when the separator is not a string\n",
    "#         with self.assertRaises(TypeError):\n",
    "#             s.split(2)\n",
    "if __name__ == '__main__':\n",
    "    unittest.main()"
   ]
  },
  {
   "cell_type": "code",
   "execution_count": null,
   "id": "native-shepherd",
   "metadata": {},
   "outputs": [],
   "source": []
  }
 ],
 "metadata": {
  "kernelspec": {
   "display_name": "Python 3",
   "language": "python",
   "name": "python3"
  },
  "language_info": {
   "codemirror_mode": {
    "name": "ipython",
    "version": 3
   },
   "file_extension": ".py",
   "mimetype": "text/x-python",
   "name": "python",
   "nbconvert_exporter": "python",
   "pygments_lexer": "ipython3",
   "version": "3.7.0"
  }
 },
 "nbformat": 4,
 "nbformat_minor": 5
}
