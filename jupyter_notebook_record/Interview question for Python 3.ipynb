{
 "cells": [
  {
   "cell_type": "code",
   "execution_count": 9,
   "id": "twenty-projection",
   "metadata": {},
   "outputs": [],
   "source": [
    "input_value = {\n",
    "  'hired': {\n",
    "    'be': {\n",
    "      'to': {\n",
    "        'deserve': 'I'\n",
    "      }\n",
    "    }\n",
    "  }\n",
    "}"
   ]
  },
  {
   "cell_type": "code",
   "execution_count": 58,
   "id": "built-holmes",
   "metadata": {},
   "outputs": [],
   "source": [
    "def reverse_nested_dict(input_value) :\n",
    "    for first, second_layer in input_value.items():\n",
    "        for second, third_layer in second_layer.items():\n",
    "            for third, forth_layer in third_layer.items():\n",
    "                for forth, fifth in forth_layer.items():\n",
    "                    output_value = {fifth:{forth:{third:{second:first}}}}\n",
    "                    return output_value"
   ]
  },
  {
   "cell_type": "code",
   "execution_count": 59,
   "id": "vulnerable-typing",
   "metadata": {},
   "outputs": [
    {
     "data": {
      "text/plain": [
       "{'I': {'deserve': {'to': {'be': 'hired'}}}}"
      ]
     },
     "execution_count": 59,
     "metadata": {},
     "output_type": "execute_result"
    }
   ],
   "source": [
    "reverse_nested_dict(input_value)"
   ]
  },
  {
   "cell_type": "code",
   "execution_count": null,
   "id": "federal-surgery",
   "metadata": {},
   "outputs": [],
   "source": []
  }
 ],
 "metadata": {
  "kernelspec": {
   "display_name": "Python 3",
   "language": "python",
   "name": "python3"
  },
  "language_info": {
   "codemirror_mode": {
    "name": "ipython",
    "version": 3
   },
   "file_extension": ".py",
   "mimetype": "text/x-python",
   "name": "python",
   "nbconvert_exporter": "python",
   "pygments_lexer": "ipython3",
   "version": "3.7.0"
  }
 },
 "nbformat": 4,
 "nbformat_minor": 5
}
