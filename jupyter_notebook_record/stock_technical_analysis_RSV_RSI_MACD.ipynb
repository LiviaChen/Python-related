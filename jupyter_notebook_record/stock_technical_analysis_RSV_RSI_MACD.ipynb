{
 "cells": [
  {
   "cell_type": "code",
   "execution_count": 1,
   "metadata": {
    "scrolled": true
   },
   "outputs": [
    {
     "name": "stdout",
     "output_type": "stream",
     "text": [
      "Collecting stockstats\n",
      "  Downloading stockstats-0.3.2-py2.py3-none-any.whl (13 kB)\n",
      "Requirement already satisfied: pandas>=0.18.1 in /Users/LiviaChen/opt/anaconda3/lib/python3.8/site-packages (from stockstats) (1.0.5)\n",
      "Requirement already satisfied: numpy>=1.9.2 in /Users/LiviaChen/opt/anaconda3/lib/python3.8/site-packages (from stockstats) (1.18.5)\n",
      "Collecting int-date>=0.1.7\n",
      "  Downloading int_date-0.1.8-py2.py3-none-any.whl (5.0 kB)\n",
      "Requirement already satisfied: pytz>=2017.2 in /Users/LiviaChen/opt/anaconda3/lib/python3.8/site-packages (from pandas>=0.18.1->stockstats) (2020.1)\n",
      "Requirement already satisfied: python-dateutil>=2.6.1 in /Users/LiviaChen/opt/anaconda3/lib/python3.8/site-packages (from pandas>=0.18.1->stockstats) (2.8.1)\n",
      "Requirement already satisfied: six>=1.9.0 in /Users/LiviaChen/opt/anaconda3/lib/python3.8/site-packages (from int-date>=0.1.7->stockstats) (1.15.0)\n",
      "Installing collected packages: int-date, stockstats\n",
      "Successfully installed int-date-0.1.8 stockstats-0.3.2\n"
     ]
    }
   ],
   "source": [
    "!pip install stockstats"
   ]
  },
  {
   "cell_type": "code",
   "execution_count": 41,
   "metadata": {},
   "outputs": [
    {
     "name": "stdout",
     "output_type": "stream",
     "text": [
      "Requirement already satisfied: yfinance in /Users/LiviaChen/opt/anaconda3/envs/ZC/lib/python3.8/site-packages (0.1.55)\n",
      "Collecting import\n",
      "  Downloading import-0.0.1.tar.gz (1.0 kB)\n",
      "Collecting as\n",
      "  Downloading as-0.1-py3-none-any.whl (2.2 kB)\n",
      "Collecting yf\n",
      "  Downloading yf-0.0.2-py3-none-any.whl (8.8 kB)\n",
      "Requirement already satisfied: multitasking>=0.0.7 in /Users/LiviaChen/opt/anaconda3/envs/ZC/lib/python3.8/site-packages (from yfinance) (0.0.9)\n",
      "Requirement already satisfied: pandas>=0.24 in /Users/LiviaChen/opt/anaconda3/envs/ZC/lib/python3.8/site-packages (from yfinance) (1.2.0)\n",
      "Requirement already satisfied: numpy>=1.15 in /Users/LiviaChen/opt/anaconda3/envs/ZC/lib/python3.8/site-packages (from yfinance) (1.19.5)\n",
      "Requirement already satisfied: requests>=2.20 in /Users/LiviaChen/opt/anaconda3/envs/ZC/lib/python3.8/site-packages (from yfinance) (2.24.0)\n",
      "Requirement already satisfied: lxml>=4.5.1 in /Users/LiviaChen/opt/anaconda3/envs/ZC/lib/python3.8/site-packages (from yfinance) (4.6.2)\n",
      "Requirement already satisfied: python-dateutil>=2.7.3 in /Users/LiviaChen/opt/anaconda3/envs/ZC/lib/python3.8/site-packages (from pandas>=0.24->yfinance) (2.8.1)\n",
      "Requirement already satisfied: pytz>=2017.3 in /Users/LiviaChen/opt/anaconda3/envs/ZC/lib/python3.8/site-packages (from pandas>=0.24->yfinance) (2020.5)\n",
      "Requirement already satisfied: certifi>=2017.4.17 in /Users/LiviaChen/opt/anaconda3/envs/ZC/lib/python3.8/site-packages (from requests>=2.20->yfinance) (2020.6.20)\n",
      "Requirement already satisfied: chardet<4,>=3.0.2 in /Users/LiviaChen/opt/anaconda3/envs/ZC/lib/python3.8/site-packages (from requests>=2.20->yfinance) (3.0.4)\n",
      "Requirement already satisfied: idna<3,>=2.5 in /Users/LiviaChen/opt/anaconda3/envs/ZC/lib/python3.8/site-packages (from requests>=2.20->yfinance) (2.10)\n",
      "Requirement already satisfied: urllib3!=1.25.0,!=1.25.1,<1.26,>=1.21.1 in /Users/LiviaChen/opt/anaconda3/envs/ZC/lib/python3.8/site-packages (from requests>=2.20->yfinance) (1.25.10)\n",
      "Requirement already satisfied: six>=1.5 in /Users/LiviaChen/opt/anaconda3/envs/ZC/lib/python3.8/site-packages (from python-dateutil>=2.7.3->pandas>=0.24->yfinance) (1.15.0)\n",
      "Building wheels for collected packages: import\n",
      "  Building wheel for import (setup.py) ... \u001b[?25ldone\n",
      "\u001b[?25h  Created wheel for import: filename=import-0.0.1-py3-none-any.whl size=1529 sha256=6c4cdb9d482a492c31391ee92f59122a025e70ab7a326cbd39b0a21b28f3385a\n",
      "  Stored in directory: /Users/LiviaChen/Library/Caches/pip/wheels/b0/b0/37/8e17c99d2fb8bc334aa69e079f4e92e7f4a086bb4428c6a7c2\n",
      "Successfully built import\n",
      "Installing collected packages: import, as, yf\n",
      "Successfully installed as-0.1 import-0.0.1 yf-0.0.2\n",
      "Note: you may need to restart the kernel to use updated packages.\n"
     ]
    }
   ],
   "source": [
    "!pip install yfinance"
   ]
  },
  {
   "cell_type": "code",
   "execution_count": 1,
   "metadata": {},
   "outputs": [],
   "source": [
    "import pandas as pd\n",
    "from stockstats import StockDataFrame\n",
    "from pandas_datareader import data as web\n",
    "from datetime import datetime\n",
    "import yfinance as yf"
   ]
  },
  {
   "cell_type": "code",
   "execution_count": 21,
   "metadata": {},
   "outputs": [],
   "source": [
    "class Stock_analytics_index(): # 建立股票類別\n",
    "    def __init__(self, stock):\n",
    "        self.__stock = str(stock)\n",
    "        self.__start_date = datetime(2000, 1, 1)\n",
    "        self.__end_date = datetime.now()\n",
    "        self.__get_stock_data()\n",
    "    def __get_stock_data(self): # 從 yfinance 拿取股價資料\n",
    "        df = web.get_data_yahoo(self.__stock, self.__start_date, self.__end_date)\n",
    "        analysis = f'./{self.__stock}data.csv'\n",
    "        df.to_csv(analysis) # 在當前資料夾產生該股票的股價資料\n",
    "        data = pd.read_csv(analysis, parse_dates=True, index_col='Date')\n",
    "        price = data[\"Close\"]\n",
    "        self.__stock = StockDataFrame.retype(pd.read_csv(analysis))\n",
    "        \n",
    "    def get_rsv_9(self): # 取得該股票的RSV\n",
    "        return self.__stock.get('rsv_9')\n",
    "    \n",
    "    def get_rsi_6(self): # 取得該股票的RSI, RSI(6)\n",
    "        return self.__stock.get('rsi_6')\n",
    "    \n",
    "    def get_rsi_9(self): # 取得該股票的RSI, RSI(9)\n",
    "        return self.__stock.get('rsi_9')\n",
    "    \n",
    "    def get_macd(self): # 取得該股票的MACD\n",
    "        return self.__stock['macd']\n",
    "    \n",
    "    def get_macd_12(self): # 取得該股票的MACD, n=12\n",
    "        return self.__stock['close_12_ema']\n",
    "    \n",
    "    def get_macd_26(self): # 取得該股票的MACD, m=26\n",
    "        return self.__stock['close_26_ema']\n",
    "    \n",
    "    def get_macd_9(self): # 取得該股票的MACD, x=9\n",
    "        return self.__stock['close_9_ema']\n",
    "\n",
    "        \n",
    "        "
   ]
  },
  {
   "cell_type": "code",
   "execution_count": 22,
   "metadata": {},
   "outputs": [],
   "source": [
    "msft = Stock_analytics_index('msft')"
   ]
  },
  {
   "cell_type": "code",
   "execution_count": 23,
   "metadata": {},
   "outputs": [
    {
     "data": {
      "text/plain": [
       "date\n",
       "1999-12-31    33.333333\n",
       "2000-01-03    68.867925\n",
       "2000-01-04     9.433962\n",
       "2000-01-05    47.972973\n",
       "2000-01-06    15.853659\n",
       "                ...    \n",
       "2021-01-06     2.034106\n",
       "2021-01-07    41.666633\n",
       "2021-01-08    50.393685\n",
       "2021-01-11    36.417366\n",
       "2021-01-12    21.840684\n",
       "Name: rsv_9, Length: 5292, dtype: float64"
      ]
     },
     "execution_count": 23,
     "metadata": {},
     "output_type": "execute_result"
    }
   ],
   "source": [
    "msft.get_rsv_9()"
   ]
  },
  {
   "cell_type": "code",
   "execution_count": 24,
   "metadata": {
    "scrolled": true
   },
   "outputs": [
    {
     "data": {
      "text/plain": [
       "date\n",
       "1999-12-31          NaN\n",
       "2000-01-03     0.000000\n",
       "2000-01-04     0.000000\n",
       "2000-01-05    25.821065\n",
       "2000-01-06    12.944249\n",
       "                ...    \n",
       "2021-01-06    23.678695\n",
       "2021-01-07    48.388265\n",
       "2021-01-08    52.455650\n",
       "2021-01-11    45.556112\n",
       "2021-01-12    38.292012\n",
       "Name: rsi_6, Length: 5292, dtype: float64"
      ]
     },
     "execution_count": 24,
     "metadata": {},
     "output_type": "execute_result"
    }
   ],
   "source": [
    "msft.get_rsi_6()"
   ]
  },
  {
   "cell_type": "code",
   "execution_count": 25,
   "metadata": {},
   "outputs": [
    {
     "data": {
      "text/plain": [
       "date\n",
       "1999-12-31          NaN\n",
       "2000-01-03     0.000000\n",
       "2000-01-04     0.000000\n",
       "2000-01-05    24.557204\n",
       "2000-01-06    13.014111\n",
       "                ...    \n",
       "2021-01-06    32.678734\n",
       "2021-01-07    49.170954\n",
       "2021-01-08    52.079125\n",
       "2021-01-11    47.212349\n",
       "2021-01-12    41.916021\n",
       "Name: rsi_9, Length: 5292, dtype: float64"
      ]
     },
     "execution_count": 25,
     "metadata": {},
     "output_type": "execute_result"
    }
   ],
   "source": [
    "msft.get_rsi_9()"
   ]
  },
  {
   "cell_type": "code",
   "execution_count": 26,
   "metadata": {},
   "outputs": [
    {
     "data": {
      "text/plain": [
       "date\n",
       "1999-12-31    0.000000\n",
       "2000-01-03   -0.002103\n",
       "2000-01-04   -0.063731\n",
       "2000-01-05   -0.068761\n",
       "2000-01-06   -0.145901\n",
       "                ...   \n",
       "2021-01-06    0.944287\n",
       "2021-01-07    0.824861\n",
       "2021-01-08    0.827991\n",
       "2021-01-11    0.651094\n",
       "2021-01-12    0.300861\n",
       "Name: macd, Length: 5292, dtype: float64"
      ]
     },
     "execution_count": 26,
     "metadata": {},
     "output_type": "execute_result"
    }
   ],
   "source": [
    "msft.get_macd()"
   ]
  },
  {
   "cell_type": "code",
   "execution_count": 27,
   "metadata": {},
   "outputs": [
    {
     "data": {
      "text/plain": [
       "date\n",
       "1999-12-31     58.375000\n",
       "2000-01-03     58.324219\n",
       "2000-01-04     57.539044\n",
       "2000-01-05     57.339296\n",
       "2000-01-06     56.703718\n",
       "                 ...    \n",
       "2021-01-06    218.910242\n",
       "2021-01-07    218.814819\n",
       "2021-01-08    218.938692\n",
       "2021-01-11    218.715817\n",
       "2021-01-12    218.133383\n",
       "Name: close_12_ema, Length: 5292, dtype: float64"
      ]
     },
     "execution_count": 27,
     "metadata": {},
     "output_type": "execute_result"
    }
   ],
   "source": [
    "msft.get_macd_12()"
   ]
  },
  {
   "cell_type": "code",
   "execution_count": 28,
   "metadata": {},
   "outputs": [
    {
     "data": {
      "text/plain": [
       "date\n",
       "1999-12-31     58.375000\n",
       "2000-01-03     58.326322\n",
       "2000-01-04     57.602775\n",
       "2000-01-05     57.408057\n",
       "2000-01-06     56.849619\n",
       "                 ...    \n",
       "2021-01-06    217.965955\n",
       "2021-01-07    217.989958\n",
       "2021-01-08    218.110701\n",
       "2021-01-11    218.064724\n",
       "2021-01-12    217.832521\n",
       "Name: close_26_ema, Length: 5292, dtype: float64"
      ]
     },
     "execution_count": 28,
     "metadata": {},
     "output_type": "execute_result"
    }
   ],
   "source": [
    "msft.get_macd_26()"
   ]
  },
  {
   "cell_type": "code",
   "execution_count": 29,
   "metadata": {},
   "outputs": [
    {
     "data": {
      "text/plain": [
       "date\n",
       "1999-12-31     58.375000\n",
       "2000-01-03     58.322917\n",
       "2000-01-04     57.498975\n",
       "2000-01-05     57.298188\n",
       "2000-01-06     56.614529\n",
       "                 ...    \n",
       "2021-01-06    218.727392\n",
       "2021-01-07    218.639913\n",
       "2021-01-08    218.835929\n",
       "2021-01-11    218.566744\n",
       "2021-01-12    217.839394\n",
       "Name: close_9_ema, Length: 5292, dtype: float64"
      ]
     },
     "execution_count": 29,
     "metadata": {},
     "output_type": "execute_result"
    }
   ],
   "source": [
    "msft.get_macd_9()"
   ]
  },
  {
   "cell_type": "code",
   "execution_count": null,
   "metadata": {},
   "outputs": [],
   "source": []
  },
  {
   "cell_type": "code",
   "execution_count": 63,
   "metadata": {},
   "outputs": [
    {
     "data": {
      "text/plain": [
       "date\n",
       "2000-01-03    68.867925\n",
       "2000-01-04     9.433962\n",
       "2000-01-05    47.972973\n",
       "2000-01-06    15.853659\n",
       "2000-01-07    36.464088\n",
       "                ...    \n",
       "2021-01-06     2.034106\n",
       "2021-01-07    41.666633\n",
       "2021-01-08    50.393685\n",
       "2021-01-11    36.417366\n",
       "2021-01-12    23.959081\n",
       "Name: rsv_9, Length: 5291, dtype: float64"
      ]
     },
     "execution_count": 63,
     "metadata": {},
     "output_type": "execute_result"
    }
   ],
   "source": [
    "# RSV\n",
    "# RSV = (今日收盤價 - 最近九天的最低價)/(最近九天的最高價 - 最近九天最低價)\n",
    "# K = 2/3 X (昨日K值) + 1/3 X (今日RSV)\n",
    "# D = 2/3 X (昨日D值) + 1/3 X (今日K值)\n",
    "\n",
    "stock.get('rsv_9')"
   ]
  },
  {
   "cell_type": "code",
   "execution_count": null,
   "metadata": {},
   "outputs": [],
   "source": [
    "# RSI\n",
    "# RSI:n日漲幅平均值÷(n日漲幅平均值+ n日跌幅平均值) × 100\n",
    "# n日漲幅平均值 = n日內上漲日總上漲幅度加總 ÷ n\n",
    "# n日跌幅平均值 = n日內下跌日總下跌幅度加總 ÷ n\n",
    "# RSI(6)、RSI(12)\n",
    "\n",
    "stock.get('rsi_6')\n",
    "stock.get('rsi_12')"
   ]
  },
  {
   "cell_type": "code",
   "execution_count": 38,
   "metadata": {
    "scrolled": true
   },
   "outputs": [
    {
     "name": "stdout",
     "output_type": "stream",
     "text": [
      "12\n",
      "26\n",
      "9\n"
     ]
    }
   ],
   "source": [
    "# MACD\n",
    "# nEMA=(前一日nEMA(n-1)＋今日收盤價×2)/(n+1)\n",
    "# mEMA=(前一日mEMA(m-1)＋今日收盤價×2)/(m+1)\n",
    "# DIF=nEMA－mEMA\n",
    "# xMACD=(前一日xMACD*(x-1)＋DIF×2)/(x+1)\n",
    "# n=12，m=26，x=9\n",
    "\n",
    "stock['macd']\n",
    "\n",
    "stock['close_12_ema']\n",
    "print(stock.MACD_EMA_SHORT)\n",
    "\n",
    "stock['close_26_ema']\n",
    "print(stock.MACD_EMA_LONG)\n",
    "\n",
    "stock['close_9_ema']\n",
    "print(stock.MACD_EMA_SIGNAL)"
   ]
  },
  {
   "cell_type": "code",
   "execution_count": null,
   "metadata": {},
   "outputs": [],
   "source": []
  },
  {
   "cell_type": "code",
   "execution_count": null,
   "metadata": {},
   "outputs": [],
   "source": [
    "!pip install yfinance\n",
    "\n",
    "!pip install fix_yahoo_finance\n",
    "\n",
    "from pandas_datareader import data as web\n",
    "from matplotlib import pyplot as plt\n",
    "from matplotlib import style\n",
    "import matplotlib.dates as mdates\n",
    "import yfinance as yf # *** `fix_yahoo_finance` was renamed to `yfinance`. ***\n",
    "from datetime import datetime\n",
    "import pandas as pd\n",
    "\n",
    "style.use('ggplot') #選擇背景的 Style\n",
    "yf.pdr_override()\n",
    "fig = plt.figure()\n",
    "ax1 = fig.add_subplot(111)\n",
    "stock = \"AAPL\" #股票輸入\n",
    "Analysis = './stockdata.csv' #自己的路徑\n",
    "start = datetime(2017, 5, 1) #選擇時間\n",
    "end = datetime.now()\n",
    "df = web.get_data_yahoo([str(stock)], start, end) #即時抓數據\n",
    "df.to_csv(Analysis)\n",
    "data = pd.read_csv(Analysis, parse_dates=True, index_col='Date')\n",
    "price = data[\"Close\"] \n",
    "price.head()\n",
    "plt.plot(price) #顯示股市\n",
    "plt.show()\n",
    "\n",
    "msft = yf.Ticker(\"MSFT\")\n",
    "msft.info\n",
    "\n",
    "import yfinance as yf\n",
    "\n",
    "msft = yf.Ticker(\"MSFT\")\n",
    "\n",
    "# get stock info\n",
    "msft.info\n",
    "\n",
    "# get historical market data\n",
    "hist = msft.history(period=\"max\")\n",
    "\n",
    "# show actions (dividends, splits)\n",
    "msft.actions\n",
    "\n",
    "# show dividends\n",
    "msft.dividends\n",
    "\n",
    "# show splits\n",
    "msft.splits\n",
    "\n",
    "# show financials\n",
    "msft.financials\n",
    "msft.quarterly_financials\n",
    "\n",
    "# show major holders\n",
    "msft.major_holders\n",
    "\n",
    "# show institutional holders\n",
    "msft.institutional_holders\n",
    "\n",
    "# show balance sheet\n",
    "msft.balance_sheet\n",
    "msft.quarterly_balance_sheet\n",
    "\n",
    "# show cashflow\n",
    "msft.cashflow\n",
    "msft.quarterly_cashflow\n",
    "\n",
    "# show earnings\n",
    "msft.earnings\n",
    "msft.quarterly_earnings\n",
    "\n",
    "# show sustainability\n",
    "msft.sustainability\n",
    "\n",
    "# show analysts recommendations\n",
    "msft.recommendations\n",
    "\n",
    "# show next event (earnings, etc)\n",
    "msft.calendar\n",
    "\n",
    "# show ISIN code - *experimental*\n",
    "# ISIN = International Securities Identification Number\n",
    "msft.isin\n",
    "\n",
    "# show options expirations\n",
    "msft.options\n",
    "\n",
    "# get option chain for specific expiration\n",
    "opt = msft.option_chain('YYYY-MM-DD')\n",
    "# data available via: opt.calls, opt.puts\n",
    "\n",
    "mavg_fast = price.rolling(5).mean() #選擇短線\n",
    "mavg_slow = price.rolling(20).mean() #選擇長線\n",
    "data = data.reset_index() \n",
    "data['Date'] = data['Date'].apply(lambda d: mdates.date2num(d.to_pydatetime()))\n",
    "candlestick = [tuple(x) for x in data[['Date','Open','High','Low','Close']].values]\n",
    "candlestick_ohlc(ax1, candlestick,, width=0.5, colorup='r',colordown='green',alpha=0.8)\n",
    "ax1.plot(mavg_fast, color='b', linewidth=1, alpha=0.7, label='MA5')\n",
    "ax1.plot(mavg_slow, color='r', linewidth=1, alpha=0.7, label='MA20')\n",
    "plt.legend()\n",
    "plt.show()\n",
    "\n",
    "\n",
    "\n",
    "pip install yfinance\n",
    "import yfinance as yf\n",
    "msft = yf.Ticker(\"MSFT\")\n",
    "msft.info # 這裡可以看到MSFT的公司資訊"
   ]
  },
  {
   "cell_type": "code",
   "execution_count": 19,
   "metadata": {
    "scrolled": true
   },
   "outputs": [
    {
     "name": "stdout",
     "output_type": "stream",
     "text": [
      "Collecting yfinance\n",
      "  Downloading yfinance-0.1.55.tar.gz (23 kB)\n",
      "Requirement already satisfied: pandas>=0.24 in /Users/LiviaChen/opt/anaconda3/envs/ZC/lib/python3.8/site-packages (from yfinance) (1.2.0)\n",
      "Requirement already satisfied: numpy>=1.15 in /Users/LiviaChen/opt/anaconda3/envs/ZC/lib/python3.8/site-packages (from yfinance) (1.19.5)\n",
      "Requirement already satisfied: requests>=2.20 in /Users/LiviaChen/opt/anaconda3/envs/ZC/lib/python3.8/site-packages (from yfinance) (2.24.0)\n",
      "Collecting multitasking>=0.0.7\n",
      "  Downloading multitasking-0.0.9.tar.gz (8.1 kB)\n",
      "Requirement already satisfied: lxml>=4.5.1 in /Users/LiviaChen/opt/anaconda3/envs/ZC/lib/python3.8/site-packages (from yfinance) (4.6.2)\n",
      "Requirement already satisfied: pytz>=2017.3 in /Users/LiviaChen/opt/anaconda3/envs/ZC/lib/python3.8/site-packages (from pandas>=0.24->yfinance) (2020.5)\n",
      "Requirement already satisfied: python-dateutil>=2.7.3 in /Users/LiviaChen/opt/anaconda3/envs/ZC/lib/python3.8/site-packages (from pandas>=0.24->yfinance) (2.8.1)\n",
      "Requirement already satisfied: urllib3!=1.25.0,!=1.25.1,<1.26,>=1.21.1 in /Users/LiviaChen/opt/anaconda3/envs/ZC/lib/python3.8/site-packages (from requests>=2.20->yfinance) (1.25.10)\n",
      "Requirement already satisfied: certifi>=2017.4.17 in /Users/LiviaChen/opt/anaconda3/envs/ZC/lib/python3.8/site-packages (from requests>=2.20->yfinance) (2020.6.20)\n",
      "Requirement already satisfied: idna<3,>=2.5 in /Users/LiviaChen/opt/anaconda3/envs/ZC/lib/python3.8/site-packages (from requests>=2.20->yfinance) (2.10)\n",
      "Requirement already satisfied: chardet<4,>=3.0.2 in /Users/LiviaChen/opt/anaconda3/envs/ZC/lib/python3.8/site-packages (from requests>=2.20->yfinance) (3.0.4)\n",
      "Requirement already satisfied: six>=1.5 in /Users/LiviaChen/opt/anaconda3/envs/ZC/lib/python3.8/site-packages (from python-dateutil>=2.7.3->pandas>=0.24->yfinance) (1.15.0)\n",
      "Building wheels for collected packages: yfinance, multitasking\n",
      "  Building wheel for yfinance (setup.py) ... \u001b[?25ldone\n",
      "\u001b[?25h  Created wheel for yfinance: filename=yfinance-0.1.55-py2.py3-none-any.whl size=22618 sha256=4b5e17a505ea453e6ba08daeac58ad997e76aba53dc7b19a4f0555c1137b4892\n",
      "  Stored in directory: /Users/LiviaChen/Library/Caches/pip/wheels/b4/c3/39/9c01ae2b4726f37024bba5592bec868b47a2fab5a786e8979a\n",
      "  Building wheel for multitasking (setup.py) ... \u001b[?25ldone\n",
      "\u001b[?25h  Created wheel for multitasking: filename=multitasking-0.0.9-py3-none-any.whl size=8367 sha256=0c444264980c21f4d5f2920df748acb501b99482fbf0dacf48d5fed63e6f4f70\n",
      "  Stored in directory: /Users/LiviaChen/Library/Caches/pip/wheels/57/6d/a3/a39b839cc75274d2acfb1c58bfead2f726c6577fe8c4723f13\n",
      "Successfully built yfinance multitasking\n",
      "Installing collected packages: multitasking, yfinance\n",
      "Successfully installed multitasking-0.0.9 yfinance-0.1.55\n"
     ]
    }
   ],
   "source": [
    "!pip install yfinance"
   ]
  },
  {
   "cell_type": "code",
   "execution_count": 20,
   "metadata": {},
   "outputs": [
    {
     "name": "stdout",
     "output_type": "stream",
     "text": [
      "Collecting fix_yahoo_finance\n",
      "  Using cached fix-yahoo-finance-0.1.37.tar.gz (6.3 kB)\n",
      "Requirement already satisfied: yfinance in /Users/LiviaChen/opt/anaconda3/envs/ZC/lib/python3.8/site-packages (from fix_yahoo_finance) (0.1.55)\n",
      "Requirement already satisfied: requests>=2.20 in /Users/LiviaChen/opt/anaconda3/envs/ZC/lib/python3.8/site-packages (from yfinance->fix_yahoo_finance) (2.24.0)\n",
      "Requirement already satisfied: multitasking>=0.0.7 in /Users/LiviaChen/opt/anaconda3/envs/ZC/lib/python3.8/site-packages (from yfinance->fix_yahoo_finance) (0.0.9)\n",
      "Requirement already satisfied: numpy>=1.15 in /Users/LiviaChen/opt/anaconda3/envs/ZC/lib/python3.8/site-packages (from yfinance->fix_yahoo_finance) (1.19.5)\n",
      "Requirement already satisfied: lxml>=4.5.1 in /Users/LiviaChen/opt/anaconda3/envs/ZC/lib/python3.8/site-packages (from yfinance->fix_yahoo_finance) (4.6.2)\n",
      "Requirement already satisfied: pandas>=0.24 in /Users/LiviaChen/opt/anaconda3/envs/ZC/lib/python3.8/site-packages (from yfinance->fix_yahoo_finance) (1.2.0)\n",
      "Requirement already satisfied: chardet<4,>=3.0.2 in /Users/LiviaChen/opt/anaconda3/envs/ZC/lib/python3.8/site-packages (from requests>=2.20->yfinance->fix_yahoo_finance) (3.0.4)\n",
      "Requirement already satisfied: certifi>=2017.4.17 in /Users/LiviaChen/opt/anaconda3/envs/ZC/lib/python3.8/site-packages (from requests>=2.20->yfinance->fix_yahoo_finance) (2020.6.20)\n",
      "Requirement already satisfied: idna<3,>=2.5 in /Users/LiviaChen/opt/anaconda3/envs/ZC/lib/python3.8/site-packages (from requests>=2.20->yfinance->fix_yahoo_finance) (2.10)\n",
      "Requirement already satisfied: urllib3!=1.25.0,!=1.25.1,<1.26,>=1.21.1 in /Users/LiviaChen/opt/anaconda3/envs/ZC/lib/python3.8/site-packages (from requests>=2.20->yfinance->fix_yahoo_finance) (1.25.10)\n",
      "Requirement already satisfied: pytz>=2017.3 in /Users/LiviaChen/opt/anaconda3/envs/ZC/lib/python3.8/site-packages (from pandas>=0.24->yfinance->fix_yahoo_finance) (2020.5)\n",
      "Requirement already satisfied: python-dateutil>=2.7.3 in /Users/LiviaChen/opt/anaconda3/envs/ZC/lib/python3.8/site-packages (from pandas>=0.24->yfinance->fix_yahoo_finance) (2.8.1)\n",
      "Requirement already satisfied: six>=1.5 in /Users/LiviaChen/opt/anaconda3/envs/ZC/lib/python3.8/site-packages (from python-dateutil>=2.7.3->pandas>=0.24->yfinance->fix_yahoo_finance) (1.15.0)\n",
      "Building wheels for collected packages: fix-yahoo-finance\n",
      "  Building wheel for fix-yahoo-finance (setup.py) ... \u001b[?25ldone\n",
      "\u001b[?25h  Created wheel for fix-yahoo-finance: filename=fix_yahoo_finance-0.1.37-py3-none-any.whl size=7056 sha256=53ce12bcae6c37478265566f6408e8c31bad19091185043661bb82e380727884\n",
      "  Stored in directory: /Users/LiviaChen/Library/Caches/pip/wheels/44/7c/7f/ec81717ef91a3feb245984b619e6828141568aa292797b7ac3\n",
      "Successfully built fix-yahoo-finance\n",
      "Installing collected packages: fix-yahoo-finance\n",
      "Successfully installed fix-yahoo-finance-0.1.37\n"
     ]
    }
   ],
   "source": [
    "!pip install fix_yahoo_finance"
   ]
  },
  {
   "cell_type": "code",
   "execution_count": 26,
   "metadata": {},
   "outputs": [
    {
     "name": "stdout",
     "output_type": "stream",
     "text": [
      "[*********************100%***********************]  1 of 1 completed\n"
     ]
    },
    {
     "data": {
      "image/png": "[encoded data removed]",
      "text/plain": [
       "<Figure size 432x288 with 1 Axes>"
      ]
     },
     "metadata": {},
     "output_type": "display_data"
    }
   ],
   "source": [
    "from pandas_datareader import data as web\n",
    "from matplotlib import pyplot as plt\n",
    "from matplotlib import style\n",
    "import matplotlib.dates as mdates\n",
    "import yfinance as yf # *** `fix_yahoo_finance` was renamed to `yfinance`. ***\n",
    "from datetime import datetime\n",
    "import pandas as pd\n",
    "\n",
    "style.use('ggplot') #選擇背景的 Style\n",
    "yf.pdr_override()\n",
    "fig = plt.figure()\n",
    "ax1 = fig.add_subplot(111)\n",
    "stock = \"AAPL\" #股票輸入\n",
    "Analysis = './stockdata.csv' #自己的路徑\n",
    "start = datetime(2017, 5, 1) #選擇時間\n",
    "end = datetime.now()\n",
    "df = web.get_data_yahoo([str(stock)], start, end) #即時抓數據\n",
    "df.to_csv(Analysis)\n",
    "data = pd.read_csv(Analysis, parse_dates=True, index_col='Date')\n",
    "price = data[\"Close\"] \n",
    "price.head()\n",
    "plt.plot(price) #顯示股市\n",
    "plt.show()"
   ]
  },
  {
   "cell_type": "code",
   "execution_count": 34,
   "metadata": {},
   "outputs": [
    {
     "data": {
      "text/plain": [
       "{'zip': '98052-6399',\n",
       " 'sector': 'Technology',\n",
       " 'fullTimeEmployees': 163000,\n",
       " 'longBusinessSummary': 'Microsoft Corporation develops, licenses, and supports software, services, devices, and solutions worldwide. Its Productivity and Business Processes segment offers Office, Exchange, SharePoint, Microsoft Teams, Office 365 Security and Compliance, and Skype for Business, as well as related Client Access Licenses (CAL); Skype, Outlook.com, OneDrive, and LinkedIn; and Dynamics 365, a set of cloud-based and on-premises business solutions for small and medium businesses, large organizations, and divisions of enterprises. Its Intelligent Cloud segment licenses SQL and Windows Servers, Visual Studio, System Center, and related CALs; GitHub that provides a collaboration platform and code hosting service for developers; and Azure, a cloud platform. It also offers support services and Microsoft consulting services to assist customers in developing, deploying, and managing Microsoft server and desktop solutions; and training and certification to developers and IT professionals on various Microsoft products. Its More Personal Computing segment provides Windows original equipment manufacturer (OEM) licensing and other non-volume licensing of the Windows operating system; Windows Commercial, such as volume licensing of the Windows operating system, Windows cloud services, and other Windows commercial offerings; patent licensing; Windows Internet of Things; and MSN advertising. It also offers Surface, PC accessories, PCs, tablets, gaming and entertainment consoles, and other devices; Gaming, including Xbox hardware, and Xbox content and services; video games and third-party video game royalties; and Search, including Bing and Microsoft advertising. It sells its products through OEMs, distributors, and resellers; and directly through digital marketplaces, online stores, and retail stores. It has a strategic collaboration with DXC Technology. The company was founded in 1975 and is headquartered in Redmond, Washington.',\n",
       " 'city': 'Redmond',\n",
       " 'phone': '425-882-8080',\n",
       " 'state': 'WA',\n",
       " 'country': 'United States',\n",
       " 'companyOfficers': [],\n",
       " 'website': 'http://www.microsoft.com',\n",
       " 'maxAge': 1,\n",
       " 'address1': 'One Microsoft Way',\n",
       " 'industry': 'Software—Infrastructure',\n",
       " 'previousClose': 218.29,\n",
       " 'regularMarketOpen': 218.68,\n",
       " 'twoHundredDayAverage': 212.1426,\n",
       " 'trailingAnnualDividendYield': 0.009574419,\n",
       " 'payoutRatio': 0.32900003,\n",
       " 'volume24Hr': None,\n",
       " 'regularMarketDayHigh': 220.58,\n",
       " 'navPrice': None,\n",
       " 'averageDailyVolume10Day': 26960985,\n",
       " 'totalAssets': None,\n",
       " 'regularMarketPreviousClose': 218.29,\n",
       " 'fiftyDayAverage': 216.92334,\n",
       " 'trailingAnnualDividendRate': 2.09,\n",
       " 'open': 218.68,\n",
       " 'toCurrency': None,\n",
       " 'averageVolume10days': 26960985,\n",
       " 'expireDate': None,\n",
       " 'yield': None,\n",
       " 'algorithm': None,\n",
       " 'dividendRate': 2.24,\n",
       " 'exDividendDate': 1613520000,\n",
       " 'beta': 0.826155,\n",
       " 'circulatingSupply': None,\n",
       " 'startDate': None,\n",
       " 'regularMarketDayLow': 217.03,\n",
       " 'priceHint': 2,\n",
       " 'currency': 'USD',\n",
       " 'trailingPE': 35.428295,\n",
       " 'regularMarketVolume': 22956206,\n",
       " 'lastMarket': None,\n",
       " 'maxSupply': None,\n",
       " 'openInterest': None,\n",
       " 'marketCap': 1660437004288,\n",
       " 'volumeAllCurrencies': None,\n",
       " 'strikePrice': None,\n",
       " 'averageVolume': 28437928,\n",
       " 'priceToSalesTrailing12Months': 11.2867365,\n",
       " 'dayLow': 217.03,\n",
       " 'ask': 219.9,\n",
       " 'ytdReturn': None,\n",
       " 'askSize': 900,\n",
       " 'volume': 22956206,\n",
       " 'fiftyTwoWeekHigh': 232.86,\n",
       " 'forwardPE': 29.400269,\n",
       " 'fromCurrency': None,\n",
       " 'fiveYearAvgDividendYield': 1.74,\n",
       " 'fiftyTwoWeekLow': 132.52,\n",
       " 'bid': 219.62,\n",
       " 'tradeable': False,\n",
       " 'dividendYield': 0.010199999,\n",
       " 'bidSize': 1100,\n",
       " 'dayHigh': 220.58,\n",
       " 'exchange': 'NMS',\n",
       " 'shortName': 'Microsoft Corporation',\n",
       " 'longName': 'Microsoft Corporation',\n",
       " 'exchangeTimezoneName': 'America/New_York',\n",
       " 'exchangeTimezoneShortName': 'EST',\n",
       " 'isEsgPopulated': False,\n",
       " 'gmtOffSetMilliseconds': '-18000000',\n",
       " 'quoteType': 'EQUITY',\n",
       " 'symbol': 'MSFT',\n",
       " 'messageBoardId': 'finmb_21835',\n",
       " 'market': 'us_market',\n",
       " 'annualHoldingsTurnover': None,\n",
       " 'enterpriseToRevenue': 10.915,\n",
       " 'beta3Year': None,\n",
       " 'profitMargins': 0.32285,\n",
       " 'enterpriseToEbitda': 23.571,\n",
       " '52WeekChange': 0.3450514,\n",
       " 'morningStarRiskRating': None,\n",
       " 'forwardEps': 7.47,\n",
       " 'revenueQuarterlyGrowth': None,\n",
       " 'sharesOutstanding': 7560500224,\n",
       " 'fundInceptionDate': None,\n",
       " 'annualReportExpenseRatio': None,\n",
       " 'bookValue': 16.313,\n",
       " 'sharesShort': 39913925,\n",
       " 'sharesPercentSharesOut': 0.0053,\n",
       " 'fundFamily': None,\n",
       " 'lastFiscalYearEnd': 1593475200,\n",
       " 'heldPercentInstitutions': 0.71844,\n",
       " 'netIncomeToCommon': 47495999488,\n",
       " 'trailingEps': 6.199,\n",
       " 'lastDividendValue': 0.56,\n",
       " 'SandP52WeekChange': 0.16317785,\n",
       " 'priceToBook': 13.462882,\n",
       " 'heldPercentInsiders': 0.00059,\n",
       " 'nextFiscalYearEnd': 1656547200,\n",
       " 'mostRecentQuarter': 1601424000,\n",
       " 'shortRatio': 1.52,\n",
       " 'sharesShortPreviousMonthDate': 1605225600,\n",
       " 'floatShares': 7449961518,\n",
       " 'enterpriseValue': 1605703172096,\n",
       " 'threeYearAverageReturn': None,\n",
       " 'lastSplitDate': 1045526400,\n",
       " 'lastSplitFactor': '2:1',\n",
       " 'legalType': None,\n",
       " 'lastDividendDate': 1605657600,\n",
       " 'morningStarOverallRating': None,\n",
       " 'earningsQuarterlyGrowth': 0.301,\n",
       " 'dateShortInterest': 1607990400,\n",
       " 'pegRatio': 2.22,\n",
       " 'lastCapGain': None,\n",
       " 'shortPercentOfFloat': 0.0053,\n",
       " 'sharesShortPriorMonth': 34066185,\n",
       " 'impliedSharesOutstanding': None,\n",
       " 'category': None,\n",
       " 'fiveYearAverageReturn': None,\n",
       " 'regularMarketPrice': 218.68,\n",
       " 'logo_url': 'https://logo.clearbit.com/microsoft.com'}"
      ]
     },
     "execution_count": 34,
     "metadata": {},
     "output_type": "execute_result"
    }
   ],
   "source": [
    "msft = yf.Ticker(\"MSFT\")\n",
    "msft.info"
   ]
  },
  {
   "cell_type": "code",
   "execution_count": null,
   "metadata": {},
   "outputs": [],
   "source": [
    "import yfinance as yf\n",
    "\n",
    "msft = yf.Ticker(\"MSFT\")\n",
    "\n",
    "# get stock info\n",
    "msft.info\n",
    "\n",
    "# get historical market data\n",
    "hist = msft.history(period=\"max\")\n",
    "\n",
    "# show actions (dividends, splits)\n",
    "msft.actions\n",
    "\n",
    "# show dividends\n",
    "msft.dividends\n",
    "\n",
    "# show splits\n",
    "msft.splits\n",
    "\n",
    "# show financials\n",
    "msft.financials\n",
    "msft.quarterly_financials\n",
    "\n",
    "# show major holders\n",
    "msft.major_holders\n",
    "\n",
    "# show institutional holders\n",
    "msft.institutional_holders\n",
    "\n",
    "# show balance sheet\n",
    "msft.balance_sheet\n",
    "msft.quarterly_balance_sheet\n",
    "\n",
    "# show cashflow\n",
    "msft.cashflow\n",
    "msft.quarterly_cashflow\n",
    "\n",
    "# show earnings\n",
    "msft.earnings\n",
    "msft.quarterly_earnings\n",
    "\n",
    "# show sustainability\n",
    "msft.sustainability\n",
    "\n",
    "# show analysts recommendations\n",
    "msft.recommendations\n",
    "\n",
    "# show next event (earnings, etc)\n",
    "msft.calendar\n",
    "\n",
    "# show ISIN code - *experimental*\n",
    "# ISIN = International Securities Identification Number\n",
    "msft.isin\n",
    "\n",
    "# show options expirations\n",
    "msft.options\n",
    "\n",
    "# get option chain for specific expiration\n",
    "opt = msft.option_chain('YYYY-MM-DD')\n",
    "# data available via: opt.calls, opt.puts"
   ]
  },
  {
   "cell_type": "code",
   "execution_count": 29,
   "metadata": {},
   "outputs": [
    {
     "ename": "SyntaxError",
     "evalue": "invalid syntax (<ipython-input-29-c6d5aed5b63f>, line 6)",
     "output_type": "error",
     "traceback": [
      "\u001b[0;36m  File \u001b[0;32m\"<ipython-input-29-c6d5aed5b63f>\"\u001b[0;36m, line \u001b[0;32m6\u001b[0m\n\u001b[0;31m    candlestick_ohlc = (ax1, candlestick,colorup='r',colordown='green',alpha=0.8)\u001b[0m\n\u001b[0m                                                ^\u001b[0m\n\u001b[0;31mSyntaxError\u001b[0m\u001b[0;31m:\u001b[0m invalid syntax\n"
     ]
    }
   ],
   "source": [
    "mavg_fast = price.rolling(5).mean() #選擇短線\n",
    "mavg_slow = price.rolling(20).mean() #選擇長線\n",
    "data = data.reset_index() \n",
    "data['Date'] = data['Date'].apply(lambda d: mdates.date2num(d.to_pydatetime()))\n",
    "candlestick = [tuple(x) for x in data[['Date','Open','High','Low','Close']].values]\n",
    "candlestick_ohlc(ax1, candlestick,, width=0.5, colorup='r',colordown='green',alpha=0.8)\n",
    "ax1.plot(mavg_fast, color='b', linewidth=1, alpha=0.7, label='MA5')\n",
    "ax1.plot(mavg_slow, color='r', linewidth=1, alpha=0.7, label='MA20')\n",
    "plt.legend()\n",
    "plt.show()"
   ]
  },
  {
   "cell_type": "code",
   "execution_count": null,
   "metadata": {},
   "outputs": [],
   "source": []
  },
  {
   "cell_type": "markdown",
   "metadata": {},
   "source": [
    "pip install yfinance\n",
    "import yfinance as yf\n",
    "msft = yf.Ticker(\"MSFT\")\n",
    "msft.info # 這裡可以看到MSFT的公司資訊"
   ]
  },
  {
   "cell_type": "code",
   "execution_count": null,
   "metadata": {},
   "outputs": [],
   "source": []
  }
 ],
 "metadata": {
  "kernelspec": {
   "display_name": "Python 3",
   "language": "python",
   "name": "python3"
  },
  "language_info": {
   "codemirror_mode": {
    "name": "ipython",
    "version": 3
   },
   "file_extension": ".py",
   "mimetype": "text/x-python",
   "name": "python",
   "nbconvert_exporter": "python",
   "pygments_lexer": "ipython3",
   "version": "3.8.5"
  }
 },
 "nbformat": 4,
 "nbformat_minor": 4
}
