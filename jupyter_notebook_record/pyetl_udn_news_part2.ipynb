{
 "cells": [
  {
   "cell_type": "code",
   "execution_count": 84,
   "metadata": {},
   "outputs": [],
   "source": [
    "import requests\n",
    "import time\n",
    "import random\n",
    "import pandas as pd\n",
    "from bs4 import BeautifulSoup\n",
    "import json\n",
    "import re"
   ]
  },
  {
   "cell_type": "code",
   "execution_count": 137,
   "metadata": {},
   "outputs": [
    {
     "name": "stdout",
     "output_type": "stream",
     "text": [
      "https://udn.com/news/story/121903/5138309\n"
     ]
    },
    {
     "data": {
      "text/plain": [
       "'https://udn.com/news/story/120940/4518417\\n'"
      ]
     },
     "execution_count": 137,
     "metadata": {},
     "output_type": "execute_result"
    }
   ],
   "source": [
    "total_links = []\n",
    "with open('./linksV2(from1915to2834).csv', 'r', encoding = 'utf-8-sig') as single_list :\n",
    "    total_links = single_list.readlines()\n",
    "\n",
    "for i in range(1, len(total_links)) :\n",
    "    print(total_links[i].replace('\\n',''))\n",
    "    break\n",
    "    \n",
    "total_links[-1]"
   ]
  },
  {
   "cell_type": "code",
   "execution_count": 112,
   "metadata": {},
   "outputs": [],
   "source": [
    "url = 'https://health.udn.com/health/story/121029/5137283'\n",
    "headers = {'accept-encoding': 'gzip, deflate, br',\n",
    "'accept-language': 'en-US,en;q=0.9,zh-TW;q=0.8,zh;q=0.7', 'sec-fetch-dest': 'document',\n",
    "'sec-fetch-mode': 'navigate',\n",
    "'sec-fetch-site': 'none',\n",
    "'sec-fetch-user': '?1',\n",
    "'upgrade-insecure-requests': '1',\n",
    "'user-agent': 'Mozilla/5.0 (Macintosh; Intel Mac OS X 10_15_4) AppleWebKit/537.36 (KHTML, like Gecko) Chrome/87.0.4280.88 Safari/537.36'}\n",
    "\n",
    "res = requests.get(url, headers = headers)\n",
    "soup = BeautifulSoup(res.text)"
   ]
  },
  {
   "cell_type": "code",
   "execution_count": 113,
   "metadata": {
    "scrolled": true
   },
   "outputs": [
    {
     "data": {
      "text/plain": [
       "'日本新冠確診者首破單日4000人關卡 東京亦破單日千人'"
      ]
     },
     "execution_count": 113,
     "metadata": {},
     "output_type": "execute_result"
    }
   ],
   "source": [
    "soup.select_one('h1[class=\"story_art_title\"]').text.split('分享')[0]"
   ]
  },
  {
   "cell_type": "code",
   "execution_count": 114,
   "metadata": {},
   "outputs": [
    {
     "data": {
      "text/plain": [
       "'日本新冠確診者首破單日4000人關卡 東京亦破單日千人分享分享留言列印A-A+2020-12-31 18:41聯合報 編譯周辰陽／即時報導 '"
      ]
     },
     "execution_count": 114,
     "metadata": {},
     "output_type": "execute_result"
    }
   ],
   "source": [
    "soup.select_one('h1[class=\"story_art_title\"]').text"
   ]
  },
  {
   "cell_type": "code",
   "execution_count": 88,
   "metadata": {},
   "outputs": [
    {
     "data": {
      "text/plain": [
       "'2020-12-31 18:41'"
      ]
     },
     "execution_count": 88,
     "metadata": {},
     "output_type": "execute_result"
    }
   ],
   "source": [
    "re.search(r'\\d{4}-\\d{2}-\\d{2} \\d{2}:\\d{2}',soup.select_one('h1[class=\"story_art_title\"]').text).group()"
   ]
  },
  {
   "cell_type": "code",
   "execution_count": 96,
   "metadata": {
    "scrolled": true
   },
   "outputs": [
    {
     "name": "stdout",
     "output_type": "stream",
     "text": [
      "日本JX通訊社31日報導，截至當地時間下午6時，全日本新冠肺炎新增確診人數已達4453人，已超過26日的3879人紀錄，並首度突破4000人大關。另據NHK指出，東京都內新增確診人數來到1337人，也首度跨越單日千人的大關。日本目前累計確診者達23.5萬人。日本東京神田神社，攝於31日。法新社\n"
     ]
    }
   ],
   "source": [
    "content = ''\n",
    "for i in soup.select('p'):\n",
    "    content += i.text\n",
    "print(content)"
   ]
  },
  {
   "cell_type": "code",
   "execution_count": null,
   "metadata": {},
   "outputs": [],
   "source": []
  },
  {
   "cell_type": "code",
   "execution_count": 106,
   "metadata": {},
   "outputs": [
    {
     "name": "stdout",
     "output_type": "stream",
     "text": [
      "'NoneType' object has no attribute 'group'\n",
      "[['新冠肺炎', '2020-12-31 23:50', 'https://udn.com/news/story/121903/5138309', '高雄跨年美食市集熱鬧 有人不戴口罩邊走邊吃引人側目', '高雄跨年活動在駁二藝術特區和高雄流行音樂中心之間、輕軌橋下設了美食市集，部分攤商說生意還可以。配合防疫，到美食區的民眾大多數戴上口罩，吃東西時才把口罩拉開，可是也有人拿著外帶食物邊走邊吃，還說美食區可以不戴口罩邊走邊吃，令旁觀的人側目。為了防疫，高雄市政府在美食市集與駁二定期的假日市集之間拉一道隔離線，美食區進入一般市集區有工作人員把關，要沒有戴上口罩的人務必把口罩拉上，也不能吃東西，大部分人都能遵守，可是也有人在美食區一路邊走邊吃，等工作人員上前勸阻時才把口罩拉上。有一名婦女端著外帶碗，邊走邊啖美食，問她一路都不戴口罩可以嗎？她自信的表示，在美食區可以，在其他地方不行；就在她身邊，很多人買了餐食離人群遠一點到港邊坐著吃，有人定點吃完把口罩拉上之後再往前走，遵守這次跨年活動的防疫規定。美食市集有的攤商認為這次沒有開放民眾到舞台區看表演，人潮會比往年少，所以沒有備大量的食材，愈接近午夜，人愈多，部分攤商備料賣完，掛出完售的牌子；部分賣熱食的攤商前面等候購買的人排起長長的隊伍，顧客要買熱食去去寒。高雄跨年活動愈晚聚集的人愈多，晚間9時過後，高雄捷運和輕軌即以尖鋒時間的班次輸運，捷運約每4分鐘一班，輕軌6到7分鐘一班。有趣的是，高雄市政府建議民眾搭捷運到鹽埕埔站、西子灣站再轉輕軌到駁二周邊活動區，事實上從前鎮之星站、夢時代方向往愛河灣的人反而多。高雄捷運和輕軌在晚間6、7時，多以一般離峰時間的班次行駛，自籬仔內上行到西子灣站的班次還有逾15分鐘一班的班次，後來班距愈來愈密，過晚間9時，捷運班距已到了每4分鐘一班次，輕軌也在6、7分鐘一班。捷運公司預計輸運到明天凌晨2時。'], ['新冠肺炎', '2020-12-31 23:42', 'https://udn.com/news/story/121903/5138288', '孝淵登台線上人數飆升 黃偉哲：明年再爭取少時到台南', '台南市政府今晚舉辦跨年晚會，不開放民眾入場，改以線上直播，最特別的是邀請到全台唯一韓星少女時代成員「孝淵」登台，線上觀看人數瞬間飆破4萬人。寒流來襲，「孝淵」以小可愛現身在舞台上，讓不少粉絲心疼「不冷嗎？好敬業」。據悉，她為了此次來台演出，隔離14天的過程中，都在房間認真練習，今晚約11時10分登場，以精心準備的DJ橋段開場，緊接著就是熱舞與演唱。粉絲留言說「肺活量好好，都不會喘」、「唱現場超穩」，也有許多網友到台南市長黃偉哲臉書許願邀請少時整團，黃偉哲臉書小編回應「明年一定再爭取少女時代來台南！」'], ['新冠肺炎', '2020-12-31 23:17', 'https://udn.com/news/story/121903/5138120', '超冷！ 北市跨年倒數最後1小時 管制區僅破萬人', '北市府跨年晚會照常舉辦，市府前廣場管制區內人流總量，從八萬人砍半為四萬人，截至晚間11點，舞台管制區內入場人數約1萬6千500人，加上市府外圍、信義商圈等待煙火及觀賞晚會節目民眾預估共約2萬5千人，相較於往年跨年舞台區人擠人，今年人潮少很多。北捷也表示，截至晚間10時止，捷運全線總運量約221萬人次，北市府周邊4站（市政府站、國父紀念館站、台北101/世貿站、象山站）運量16.6萬人次。北捷總運量在2個小時內，增加52.9萬人次。由於今年跨年晚會舞台區需要實聯制、也禁止飲食等限制多，許多等著看一零一跨年煙火倒數的民眾，都聚集在一零一煙火視野較好的管制區域外，管制區外的仁愛路周邊，就聚集許多民眾席地而坐，等著跨年倒數，儘管天氣冷颼颼，許多民眾不畏寒流要跨年倒數。北市府跨年晚會照常舉辦，市府前廣場管制區內人流總量，從八萬人砍半為四萬人，截至晚間11點，舞台管制區內入場人數約1萬6千500人。圖／記者陳惠惠／攝影'], ['新冠肺炎', '2020-12-31 18:41', 'https://health.udn.com/health/story/121029/5137283', '日本新冠確診者首破單日4000人關卡 東京亦破單日千人', '日本JX通訊社31日報導，截至當地時間下午6時，全日本新冠肺炎新增確診人數已達4453人，已超過26日的3879人紀錄，並首度突破4000人大關。另據NHK指出，東京都內新增確診人數來到1337人，也首度跨越單日千人的大關。日本目前累計確診者達23.5萬人。日本東京神田神社，攝於31日。法新社'], ['新冠肺炎', '2020-12-31 14:30', 'https://health.udn.com/health/story/120950/5136590', '台灣輸出病毒上海現蹤 指揮中心：正在等陸方資料', '上海市衛生健康委員會宣布，30日報告6例境外移入確診病例，其中1例來自台灣，為台灣民眾。這應是台灣輸出至中國大陸的第5例新冠肺炎確診病例，「台灣輸出病例」上海現蹤，指揮中心發言人莊人祥表示，已詢問陸方，對方答覆儘速確認，提供相關資料，目前無進一步消息。我事隔多日又傳出「輸出病例」，今正逢跨年日，目前多縣市已宣布跨年活動改線上，但台北市決定照常舉行，莊人祥表示，12月22日已提出跨年晚會五大防疫措施，是否舉辦就看各縣市能不能做到，如消毒頻率、實名制、不得販售食品、確保戴口罩，禁飲食，及民眾攜帶手機。莊人祥說，各地是否要舉辦跨年活動，都由縣市政府自己決定。昨天及今天接連公布英國變種病毒株個案，但莊說，個案都未走入社區，對社區風險低，但邊境從明天起將限縮外國人來台，同時調整居家檢疫管理強度，希望透過邊境防疫保護社區。中央流行疫情指揮中心12月31日記者會，發言人莊人祥說，已詢問陸方，對方答覆儘速確認，提供相關資料，目前無進一步消息。。記者黃惠群／攝影']]\n"
     ]
    }
   ],
   "source": [
    "url = ['https://udn.com/news/story/121903/5138309', 'https://udn.com/news/story/121903/5138288', 'https://udn.com/news/story/121903/5138120', 'https://health.udn.com/health/story/121029/5137283', 'https://health.udn.com/health/story/120950/5136590','https://fund.udn.com/fund/story/5858/5138059']\n",
    "headers = {'accept-encoding': 'gzip, deflate, br',\n",
    "'accept-language': 'en-US,en;q=0.9,zh-TW;q=0.8,zh;q=0.7', 'sec-fetch-dest': 'document',\n",
    "'sec-fetch-mode': 'navigate',\n",
    "'sec-fetch-site': 'none',\n",
    "'sec-fetch-user': '?1',\n",
    "'upgrade-insecure-requests': '1',\n",
    "'user-agent': 'Mozilla/5.0 (Macintosh; Intel Mac OS X 10_15_4) AppleWebKit/537.36 (KHTML, like Gecko) Chrome/87.0.4280.88 Safari/537.36'}\n",
    "\n",
    "total_list = []\n",
    "\n",
    "for i in url : \n",
    "    res = requests.get(i, headers=headers)\n",
    "    soup = BeautifulSoup(res.text)\n",
    "    single_list = []\n",
    "    single_list.append('新冠肺炎')\n",
    "    try :\n",
    "        single_list.append(soup.select_one('time[class=\"article-content__time\"]').text)\n",
    "        single_list.append(i)\n",
    "        single_list.append(soup.select_one('h1[class=\"article-content__title\"]').text)\n",
    "        single_list.append(soup.select_one('div[class=\"article-content__paragraph\"]').text.replace('\\n','').replace('\\r','').replace(' 跨年疫情新冠肺炎',''))\n",
    "        total_list.append(single_list)\n",
    "    except AttributeError :\n",
    "        try :\n",
    "            single_list.append(re.search(r'\\d{4}-\\d{2}-\\d{2} \\d{2}:\\d{2}',soup.select_one('h1[class=\"story_art_title\"]').text).group())\n",
    "            single_list.append(i)\n",
    "            single_list.append(soup.select_one('h1[class=\"story_art_title\"]').text.split('分享')[0])\n",
    "            content = ''\n",
    "            for i in soup.select('p'):\n",
    "                content += i.text\n",
    "            single_list.append(content)\n",
    "            total_list.append(single_list)\n",
    "        except Exception as e :\n",
    "            print(e)\n",
    "    time_sleep = random.randint(6,10)\n",
    "    time.sleep(time_sleep)\n",
    "\n",
    "print(total_list)"
   ]
  },
  {
   "cell_type": "code",
   "execution_count": 35,
   "metadata": {},
   "outputs": [
    {
     "data": {
      "text/plain": [
       "'高雄跨年美食市集熱鬧 有人不戴口罩邊走邊吃引人側目'"
      ]
     },
     "execution_count": 35,
     "metadata": {},
     "output_type": "execute_result"
    }
   ],
   "source": [
    "soup.select_one('h1[class=\"article-content__title\"]').text"
   ]
  },
  {
   "cell_type": "code",
   "execution_count": 19,
   "metadata": {},
   "outputs": [
    {
     "data": {
      "text/plain": [
       "'高雄跨年活動在駁二藝術特區和高雄流行音樂中心之間、輕軌橋下設了美食市集，部分攤商說生意還可以。配合防疫，到美食區的民眾大多數戴上口罩，吃東西時才把口罩拉開，可是也有人拿著外帶食物邊走邊吃，還說美食區可以不戴口罩邊走邊吃，令旁觀的人側目。為了防疫，高雄市政府在美食市集與駁二定期的假日市集之間拉一道隔離線，美食區進入一般市集區有工作人員把關，要沒有戴上口罩的人務必把口罩拉上，也不能吃東西，大部分人都能遵守，可是也有人在美食區一路邊走邊吃，等工作人員上前勸阻時才把口罩拉上。有一名婦女端著外帶碗，邊走邊啖美食，問她一路都不戴口罩可以嗎？她自信的表示，在美食區可以，在其他地方不行；就在她身邊，很多人買了餐食離人群遠一點到港邊坐著吃，有人定點吃完把口罩拉上之後再往前走，遵守這次跨年活動的防疫規定。美食市集有的攤商認為這次沒有開放民眾到舞台區看表演，人潮會比往年少，所以沒有備大量的食材，愈接近午夜，人愈多，部分攤商備料賣完，掛出完售的牌子；部分賣熱食的攤商前面等候購買的人排起長長的隊伍，顧客要買熱食去去寒。高雄跨年活動愈晚聚集的人愈多，晚間9時過後，高雄捷運和輕軌即以尖鋒時間的班次輸運，捷運約每4分鐘一班，輕軌6到7分鐘一班。有趣的是，高雄市政府建議民眾搭捷運到鹽埕埔站、西子灣站再轉輕軌到駁二周邊活動區，事實上從前鎮之星站、夢時代方向往愛河灣的人反而多。高雄捷運和輕軌在晚間6、7時，多以一般離峰時間的班次行駛，自籬仔內上行到西子灣站的班次還有逾15分鐘一班的班次，後來班距愈來愈密，過晚間9時，捷運班距已到了每4分鐘一班次，輕軌也在6、7分鐘一班。捷運公司預計輸運到明天凌晨2時。'"
      ]
     },
     "execution_count": 19,
     "metadata": {},
     "output_type": "execute_result"
    }
   ],
   "source": [
    "soup.select_one('div[class=\"article-content__paragraph\"]').text.replace('\\n','').replace('\\r','').replace(' 跨年疫情新冠肺炎','')"
   ]
  },
  {
   "cell_type": "code",
   "execution_count": 43,
   "metadata": {},
   "outputs": [
    {
     "data": {
      "text/plain": [
       "'2020-12-31 23:50'"
      ]
     },
     "execution_count": 43,
     "metadata": {},
     "output_type": "execute_result"
    }
   ],
   "source": [
    "soup.select_one('time[class=\"article-content__time\"]').text"
   ]
  },
  {
   "cell_type": "code",
   "execution_count": null,
   "metadata": {},
   "outputs": [],
   "source": []
  }
 ],
 "metadata": {
  "kernelspec": {
   "display_name": "Python 3",
   "language": "python",
   "name": "python3"
  },
  "language_info": {
   "codemirror_mode": {
    "name": "ipython",
    "version": 3
   },
   "file_extension": ".py",
   "mimetype": "text/x-python",
   "name": "python",
   "nbconvert_exporter": "python",
   "pygments_lexer": "ipython3",
   "version": "3.8.5"
  }
 },
 "nbformat": 4,
 "nbformat_minor": 4
}
